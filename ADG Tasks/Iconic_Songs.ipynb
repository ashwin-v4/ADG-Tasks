{
 "cells": [
  {
   "cell_type": "code",
   "execution_count": 89,
   "id": "38b8f8f7",
   "metadata": {},
   "outputs": [],
   "source": [
    "import pandas as pd\n",
    "import numpy as np\n",
    "import statistics as st\n",
    "import matplotlib.pyplot as plt\n",
    "from sklearn.model_selection import train_test_split\n",
    "\n",
    "from sklearn.linear_model import LinearRegression\n",
    "from sklearn.svm import SVR\n",
    "from sklearn.ensemble import RandomForestRegressor\n",
    "\n",
    "from sklearn.metrics import mean_squared_error,r2_score\n",
    "from sklearn.preprocessing import StandardScaler\n",
    "from sklearn.preprocessing import LabelEncoder"
   ]
  },
  {
   "cell_type": "code",
   "execution_count": 90,
   "id": "e569e3bd",
   "metadata": {},
   "outputs": [],
   "source": [
    "df = pd.read_csv('Iconic_Songs_Dataset.csv')"
   ]
  },
  {
   "cell_type": "code",
   "execution_count": 91,
   "id": "27f3e6d2",
   "metadata": {},
   "outputs": [
    {
     "data": {
      "text/html": [
       "<div>\n",
       "<style scoped>\n",
       "    .dataframe tbody tr th:only-of-type {\n",
       "        vertical-align: middle;\n",
       "    }\n",
       "\n",
       "    .dataframe tbody tr th {\n",
       "        vertical-align: top;\n",
       "    }\n",
       "\n",
       "    .dataframe thead th {\n",
       "        text-align: right;\n",
       "    }\n",
       "</style>\n",
       "<table border=\"1\" class=\"dataframe\">\n",
       "  <thead>\n",
       "    <tr style=\"text-align: right;\">\n",
       "      <th></th>\n",
       "      <th>Title</th>\n",
       "      <th>Artist</th>\n",
       "      <th>Genre</th>\n",
       "      <th>ReleaseDate</th>\n",
       "      <th>Duration</th>\n",
       "      <th>Album</th>\n",
       "      <th>Popularity</th>\n",
       "    </tr>\n",
       "  </thead>\n",
       "  <tbody>\n",
       "    <tr>\n",
       "      <th>0</th>\n",
       "      <td>Blinding Lights</td>\n",
       "      <td>The Weeknd</td>\n",
       "      <td>Pop</td>\n",
       "      <td>2024-01-05</td>\n",
       "      <td>3:22</td>\n",
       "      <td>After Hours</td>\n",
       "      <td>95</td>\n",
       "    </tr>\n",
       "    <tr>\n",
       "      <th>1</th>\n",
       "      <td>Levitating</td>\n",
       "      <td>Dua Lipa</td>\n",
       "      <td>Pop</td>\n",
       "      <td>2024-01-14</td>\n",
       "      <td>3:23</td>\n",
       "      <td>Future Nostalgia</td>\n",
       "      <td>93</td>\n",
       "    </tr>\n",
       "    <tr>\n",
       "      <th>2</th>\n",
       "      <td>Peaches</td>\n",
       "      <td>Justin Bieber ft. Daniel Caesar &amp; Giveon</td>\n",
       "      <td>Pop</td>\n",
       "      <td>2024-02-12</td>\n",
       "      <td>3:18</td>\n",
       "      <td>Justice</td>\n",
       "      <td>91</td>\n",
       "    </tr>\n",
       "    <tr>\n",
       "      <th>3</th>\n",
       "      <td>Save Your Tears</td>\n",
       "      <td>The Weeknd</td>\n",
       "      <td>Pop</td>\n",
       "      <td>2024-02-18</td>\n",
       "      <td>3:36</td>\n",
       "      <td>After Hours</td>\n",
       "      <td>92</td>\n",
       "    </tr>\n",
       "    <tr>\n",
       "      <th>4</th>\n",
       "      <td>Good 4 U</td>\n",
       "      <td>Olivia Rodrigo</td>\n",
       "      <td>Pop</td>\n",
       "      <td>2024-03-05</td>\n",
       "      <td>2:58</td>\n",
       "      <td>SOUR</td>\n",
       "      <td>94</td>\n",
       "    </tr>\n",
       "    <tr>\n",
       "      <th>5</th>\n",
       "      <td>Stay</td>\n",
       "      <td>The Kid LAROI &amp; Justin Bieber</td>\n",
       "      <td>Pop</td>\n",
       "      <td>2024-03-15</td>\n",
       "      <td>2:21</td>\n",
       "      <td>F*CK LOVE 3: OVER YOU</td>\n",
       "      <td>90</td>\n",
       "    </tr>\n",
       "    <tr>\n",
       "      <th>6</th>\n",
       "      <td>Kiss Me More</td>\n",
       "      <td>Doja Cat ft. SZA</td>\n",
       "      <td>Pop</td>\n",
       "      <td>2024-03-20</td>\n",
       "      <td>3:28</td>\n",
       "      <td>Planet Her</td>\n",
       "      <td>89</td>\n",
       "    </tr>\n",
       "    <tr>\n",
       "      <th>7</th>\n",
       "      <td>Montero (Call Me By Your Name)</td>\n",
       "      <td>Lil Nas X</td>\n",
       "      <td>Pop</td>\n",
       "      <td>2024-04-10</td>\n",
       "      <td>2:18</td>\n",
       "      <td>Montero</td>\n",
       "      <td>88</td>\n",
       "    </tr>\n",
       "    <tr>\n",
       "      <th>8</th>\n",
       "      <td>Butter</td>\n",
       "      <td>BTS</td>\n",
       "      <td>K-Pop</td>\n",
       "      <td>2024-04-22</td>\n",
       "      <td>2:44</td>\n",
       "      <td>Butter</td>\n",
       "      <td>96</td>\n",
       "    </tr>\n",
       "    <tr>\n",
       "      <th>9</th>\n",
       "      <td>drivers license</td>\n",
       "      <td>Olivia Rodrigo</td>\n",
       "      <td>Pop</td>\n",
       "      <td>2024-05-05</td>\n",
       "      <td>4:02</td>\n",
       "      <td>SOUR</td>\n",
       "      <td>97</td>\n",
       "    </tr>\n",
       "    <tr>\n",
       "      <th>10</th>\n",
       "      <td>Industry Baby</td>\n",
       "      <td>Lil Nas X &amp; Jack Harlow</td>\n",
       "      <td>Pop</td>\n",
       "      <td>2024-05-18</td>\n",
       "      <td>3:32</td>\n",
       "      <td>Montero</td>\n",
       "      <td>85</td>\n",
       "    </tr>\n",
       "    <tr>\n",
       "      <th>11</th>\n",
       "      <td>Deja Vu</td>\n",
       "      <td>Olivia Rodrigo</td>\n",
       "      <td>Pop</td>\n",
       "      <td>2024-06-05</td>\n",
       "      <td>3:35</td>\n",
       "      <td>SOUR</td>\n",
       "      <td>87</td>\n",
       "    </tr>\n",
       "    <tr>\n",
       "      <th>12</th>\n",
       "      <td>Happier Than Ever</td>\n",
       "      <td>Billie Eilish</td>\n",
       "      <td>Pop</td>\n",
       "      <td>2024-06-25</td>\n",
       "      <td>4:58</td>\n",
       "      <td>Happier Than Ever</td>\n",
       "      <td>89</td>\n",
       "    </tr>\n",
       "    <tr>\n",
       "      <th>13</th>\n",
       "      <td>Bad Habits</td>\n",
       "      <td>Ed Sheeran</td>\n",
       "      <td>Pop</td>\n",
       "      <td>2024-07-10</td>\n",
       "      <td>3:50</td>\n",
       "      <td>=</td>\n",
       "      <td>90</td>\n",
       "    </tr>\n",
       "    <tr>\n",
       "      <th>14</th>\n",
       "      <td>Easy On Me</td>\n",
       "      <td>Adele</td>\n",
       "      <td>Pop</td>\n",
       "      <td>2024-07-22</td>\n",
       "      <td>3:45</td>\n",
       "      <td>30</td>\n",
       "      <td>98</td>\n",
       "    </tr>\n",
       "    <tr>\n",
       "      <th>15</th>\n",
       "      <td>Take My Breath</td>\n",
       "      <td>The Weeknd</td>\n",
       "      <td>Pop</td>\n",
       "      <td>2024-08-01</td>\n",
       "      <td>3:40</td>\n",
       "      <td>Dawn FM</td>\n",
       "      <td>94</td>\n",
       "    </tr>\n",
       "    <tr>\n",
       "      <th>16</th>\n",
       "      <td>My Universe</td>\n",
       "      <td>Coldplay &amp; BTS</td>\n",
       "      <td>Pop</td>\n",
       "      <td>2024-08-18</td>\n",
       "      <td>3:46</td>\n",
       "      <td>Music of the Spheres</td>\n",
       "      <td>92</td>\n",
       "    </tr>\n",
       "    <tr>\n",
       "      <th>17</th>\n",
       "      <td>Shivers</td>\n",
       "      <td>Ed Sheeran</td>\n",
       "      <td>Pop</td>\n",
       "      <td>2024-09-05</td>\n",
       "      <td>3:27</td>\n",
       "      <td>=</td>\n",
       "      <td>93</td>\n",
       "    </tr>\n",
       "    <tr>\n",
       "      <th>18</th>\n",
       "      <td>Need To Know</td>\n",
       "      <td>Doja Cat</td>\n",
       "      <td>Pop</td>\n",
       "      <td>2024-09-20</td>\n",
       "      <td>3:30</td>\n",
       "      <td>Planet Her</td>\n",
       "      <td>89</td>\n",
       "    </tr>\n",
       "    <tr>\n",
       "      <th>19</th>\n",
       "      <td>Good Without</td>\n",
       "      <td>Mimi Webb</td>\n",
       "      <td>Pop</td>\n",
       "      <td>2024-09-30</td>\n",
       "      <td>3:02</td>\n",
       "      <td>Seven Shades of Heartbreak</td>\n",
       "      <td>86</td>\n",
       "    </tr>\n",
       "  </tbody>\n",
       "</table>\n",
       "</div>"
      ],
      "text/plain": [
       "                             Title                                    Artist  \\\n",
       "0                  Blinding Lights                                The Weeknd   \n",
       "1                       Levitating                                  Dua Lipa   \n",
       "2                          Peaches  Justin Bieber ft. Daniel Caesar & Giveon   \n",
       "3                  Save Your Tears                                The Weeknd   \n",
       "4                         Good 4 U                            Olivia Rodrigo   \n",
       "5                             Stay             The Kid LAROI & Justin Bieber   \n",
       "6                     Kiss Me More                          Doja Cat ft. SZA   \n",
       "7   Montero (Call Me By Your Name)                                 Lil Nas X   \n",
       "8                           Butter                                       BTS   \n",
       "9                  drivers license                            Olivia Rodrigo   \n",
       "10                   Industry Baby                   Lil Nas X & Jack Harlow   \n",
       "11                         Deja Vu                            Olivia Rodrigo   \n",
       "12               Happier Than Ever                             Billie Eilish   \n",
       "13                      Bad Habits                                Ed Sheeran   \n",
       "14                      Easy On Me                                     Adele   \n",
       "15                  Take My Breath                                The Weeknd   \n",
       "16                     My Universe                            Coldplay & BTS   \n",
       "17                         Shivers                                Ed Sheeran   \n",
       "18                    Need To Know                                  Doja Cat   \n",
       "19                    Good Without                                 Mimi Webb   \n",
       "\n",
       "    Genre ReleaseDate Duration                       Album  Popularity  \n",
       "0     Pop  2024-01-05     3:22                 After Hours          95  \n",
       "1     Pop  2024-01-14     3:23            Future Nostalgia          93  \n",
       "2     Pop  2024-02-12     3:18                     Justice          91  \n",
       "3     Pop  2024-02-18     3:36                 After Hours          92  \n",
       "4     Pop  2024-03-05     2:58                        SOUR          94  \n",
       "5     Pop  2024-03-15     2:21       F*CK LOVE 3: OVER YOU          90  \n",
       "6     Pop  2024-03-20     3:28                  Planet Her          89  \n",
       "7     Pop  2024-04-10     2:18                     Montero          88  \n",
       "8   K-Pop  2024-04-22     2:44                      Butter          96  \n",
       "9     Pop  2024-05-05     4:02                        SOUR          97  \n",
       "10    Pop  2024-05-18     3:32                     Montero          85  \n",
       "11    Pop  2024-06-05     3:35                        SOUR          87  \n",
       "12    Pop  2024-06-25     4:58           Happier Than Ever          89  \n",
       "13    Pop  2024-07-10     3:50                           =          90  \n",
       "14    Pop  2024-07-22     3:45                          30          98  \n",
       "15    Pop  2024-08-01     3:40                     Dawn FM          94  \n",
       "16    Pop  2024-08-18     3:46        Music of the Spheres          92  \n",
       "17    Pop  2024-09-05     3:27                           =          93  \n",
       "18    Pop  2024-09-20     3:30                  Planet Her          89  \n",
       "19    Pop  2024-09-30     3:02  Seven Shades of Heartbreak          86  "
      ]
     },
     "execution_count": 91,
     "metadata": {},
     "output_type": "execute_result"
    }
   ],
   "source": [
    "df.head(20)"
   ]
  },
  {
   "cell_type": "code",
   "execution_count": 92,
   "id": "e42b7ccc",
   "metadata": {},
   "outputs": [
    {
     "name": "stdout",
     "output_type": "stream",
     "text": [
      "<class 'pandas.core.frame.DataFrame'>\n",
      "RangeIndex: 100 entries, 0 to 99\n",
      "Data columns (total 7 columns):\n",
      " #   Column       Non-Null Count  Dtype \n",
      "---  ------       --------------  ----- \n",
      " 0   Title        100 non-null    object\n",
      " 1   Artist       100 non-null    object\n",
      " 2   Genre        100 non-null    object\n",
      " 3   ReleaseDate  100 non-null    object\n",
      " 4   Duration     100 non-null    object\n",
      " 5   Album        98 non-null     object\n",
      " 6   Popularity   100 non-null    int64 \n",
      "dtypes: int64(1), object(6)\n",
      "memory usage: 5.6+ KB\n"
     ]
    }
   ],
   "source": [
    "df.info()"
   ]
  },
  {
   "cell_type": "markdown",
   "id": "50483456",
   "metadata": {},
   "source": [
    "#### At Album there are 2 Null values, rest are good"
   ]
  },
  {
   "cell_type": "code",
   "execution_count": 93,
   "id": "b969f29c",
   "metadata": {},
   "outputs": [
    {
     "name": "stdout",
     "output_type": "stream",
     "text": [
      "69\n",
      "['Pop' 'K-Pop' 'Afrobeats' 'Country' 'R&B' 'Dance' 'Hip-Hop' 'Electronic'\n",
      " 'Reggaeton']\n",
      "83\n",
      "['3:22' '3:23' '3:18' '3:36' '2:58' '2:21' '3:28' '2:18' '2:44' '4:02'\n",
      " '3:32' '3:35' '4:58' '3:50' '3:45' '3:40' '3:46' '3:27' '3:30' '3:02'\n",
      " '3:58' '2:33' '2:25' '2:41' '4:08' '3:56' '3:41' '2:29' '3:34' '2:52'\n",
      " '3:03' '3:19' '2:54' '2:57' '3:48' '2:56' '2:35' '2:53' '3:10' '2:38'\n",
      " '4:21' '3:09' '2:43' '4:05' '2:51' '2:39' '3:57' '2:37' '3:11' '1:55'\n",
      " '3:01' '4:22' '3:04' '3:21' '3:59' '5:12' '4:13' '3:07' '4:30' '5:13'\n",
      " '3:37' '4:00' '4:14' '3:51' '3:42' '3:31' '3:06' '3:05' '3:13']\n",
      "[95 93 91 92 94 90 89 88 96 97 85 87 98 86 99 84]\n"
     ]
    }
   ],
   "source": [
    "print(len(df.Artist.unique()))\n",
    "print(df.Genre.unique())\n",
    "print(len(df.ReleaseDate.unique()))\n",
    "print(df.Duration.unique())\n",
    "\n",
    "print(df.Popularity.unique())"
   ]
  },
  {
   "cell_type": "markdown",
   "id": "8913c773",
   "metadata": {},
   "source": [
    "The Popularity values lie between 99 to 84, so it looks like there are no abnormal values"
   ]
  },
  {
   "cell_type": "code",
   "execution_count": 94,
   "id": "52abc39b",
   "metadata": {},
   "outputs": [
    {
     "data": {
      "text/html": [
       "<div>\n",
       "<style scoped>\n",
       "    .dataframe tbody tr th:only-of-type {\n",
       "        vertical-align: middle;\n",
       "    }\n",
       "\n",
       "    .dataframe tbody tr th {\n",
       "        vertical-align: top;\n",
       "    }\n",
       "\n",
       "    .dataframe thead th {\n",
       "        text-align: right;\n",
       "    }\n",
       "</style>\n",
       "<table border=\"1\" class=\"dataframe\">\n",
       "  <thead>\n",
       "    <tr style=\"text-align: right;\">\n",
       "      <th></th>\n",
       "      <th>Popularity</th>\n",
       "    </tr>\n",
       "  </thead>\n",
       "  <tbody>\n",
       "    <tr>\n",
       "      <th>count</th>\n",
       "      <td>100.000000</td>\n",
       "    </tr>\n",
       "    <tr>\n",
       "      <th>mean</th>\n",
       "      <td>91.710000</td>\n",
       "    </tr>\n",
       "    <tr>\n",
       "      <th>std</th>\n",
       "      <td>3.806679</td>\n",
       "    </tr>\n",
       "    <tr>\n",
       "      <th>min</th>\n",
       "      <td>84.000000</td>\n",
       "    </tr>\n",
       "    <tr>\n",
       "      <th>25%</th>\n",
       "      <td>89.000000</td>\n",
       "    </tr>\n",
       "    <tr>\n",
       "      <th>50%</th>\n",
       "      <td>92.000000</td>\n",
       "    </tr>\n",
       "    <tr>\n",
       "      <th>75%</th>\n",
       "      <td>95.000000</td>\n",
       "    </tr>\n",
       "    <tr>\n",
       "      <th>max</th>\n",
       "      <td>99.000000</td>\n",
       "    </tr>\n",
       "  </tbody>\n",
       "</table>\n",
       "</div>"
      ],
      "text/plain": [
       "       Popularity\n",
       "count  100.000000\n",
       "mean    91.710000\n",
       "std      3.806679\n",
       "min     84.000000\n",
       "25%     89.000000\n",
       "50%     92.000000\n",
       "75%     95.000000\n",
       "max     99.000000"
      ]
     },
     "execution_count": 94,
     "metadata": {},
     "output_type": "execute_result"
    }
   ],
   "source": [
    "df.describe()"
   ]
  },
  {
   "cell_type": "code",
   "execution_count": 95,
   "id": "45b033a1",
   "metadata": {},
   "outputs": [
    {
     "data": {
      "text/plain": [
       "0.10940838462887177"
      ]
     },
     "execution_count": 95,
     "metadata": {},
     "output_type": "execute_result"
    }
   ],
   "source": [
    "df.Popularity.skew()"
   ]
  },
  {
   "cell_type": "markdown",
   "id": "aca1d17b",
   "metadata": {},
   "source": [
    "Skewed a bit to the right"
   ]
  },
  {
   "cell_type": "code",
   "execution_count": 96,
   "id": "a4b3f58c",
   "metadata": {},
   "outputs": [],
   "source": [
    "def find_anomalies(data):\n",
    "    anomality = []\n",
    "    stand = st.stdev(data)\n",
    "    mean_ = st.mean(data)\n",
    "    standard = 3*stand\n",
    "    lower_limit = mean_ - stand\n",
    "    upper_limit = mean_ + stand\n",
    "    \n",
    "    for anomaly in data:\n",
    "        if anomaly>upper_limit and anomaly<lower_limit:\n",
    "            anomality.append(anomaly)\n",
    "        \n",
    "    return anomality"
   ]
  },
  {
   "cell_type": "code",
   "execution_count": 97,
   "id": "4221aea9",
   "metadata": {},
   "outputs": [
    {
     "data": {
      "text/plain": [
       "0"
      ]
     },
     "execution_count": 97,
     "metadata": {},
     "output_type": "execute_result"
    }
   ],
   "source": [
    "a = find_anomalies(df['Popularity'])\n",
    "len(a)"
   ]
  },
  {
   "cell_type": "code",
   "execution_count": 98,
   "id": "96d5da30",
   "metadata": {},
   "outputs": [
    {
     "data": {
      "image/png": "[encoded data removed]",
      "text/plain": [
       "<Figure size 640x480 with 1 Axes>"
      ]
     },
     "metadata": {},
     "output_type": "display_data"
    }
   ],
   "source": [
    "plt.boxplot(df['Popularity'])\n",
    "plt.show()"
   ]
  },
  {
   "cell_type": "markdown",
   "id": "14be36a3",
   "metadata": {},
   "source": [
    "this shows that Popularity/target/y is perfect "
   ]
  },
  {
   "cell_type": "markdown",
   "id": "5edbf077",
   "metadata": {},
   "source": [
    "# Data Preprocessing\n",
    "- Genre is in string and we need to convert it to numerical format\n",
    "- ReleaseDate is in date-month-day format. Convert it to 3 different columns/features"
   ]
  },
  {
   "cell_type": "code",
   "execution_count": 99,
   "id": "1f1863a5",
   "metadata": {},
   "outputs": [
    {
     "data": {
      "text/html": [
       "<div>\n",
       "<style scoped>\n",
       "    .dataframe tbody tr th:only-of-type {\n",
       "        vertical-align: middle;\n",
       "    }\n",
       "\n",
       "    .dataframe tbody tr th {\n",
       "        vertical-align: top;\n",
       "    }\n",
       "\n",
       "    .dataframe thead th {\n",
       "        text-align: right;\n",
       "    }\n",
       "</style>\n",
       "<table border=\"1\" class=\"dataframe\">\n",
       "  <thead>\n",
       "    <tr style=\"text-align: right;\">\n",
       "      <th></th>\n",
       "      <th>Artist</th>\n",
       "      <th>Genre</th>\n",
       "      <th>Album</th>\n",
       "      <th>Popularity</th>\n",
       "      <th>ReleaseMonth</th>\n",
       "      <th>Seconds</th>\n",
       "    </tr>\n",
       "  </thead>\n",
       "  <tbody>\n",
       "    <tr>\n",
       "      <th>0</th>\n",
       "      <td>The Weeknd</td>\n",
       "      <td>Pop</td>\n",
       "      <td>After Hours</td>\n",
       "      <td>95</td>\n",
       "      <td>1</td>\n",
       "      <td>202.0</td>\n",
       "    </tr>\n",
       "    <tr>\n",
       "      <th>1</th>\n",
       "      <td>Dua Lipa</td>\n",
       "      <td>Pop</td>\n",
       "      <td>Future Nostalgia</td>\n",
       "      <td>93</td>\n",
       "      <td>1</td>\n",
       "      <td>203.0</td>\n",
       "    </tr>\n",
       "    <tr>\n",
       "      <th>2</th>\n",
       "      <td>Justin Bieber ft. Daniel Caesar &amp; Giveon</td>\n",
       "      <td>Pop</td>\n",
       "      <td>Justice</td>\n",
       "      <td>91</td>\n",
       "      <td>2</td>\n",
       "      <td>198.0</td>\n",
       "    </tr>\n",
       "    <tr>\n",
       "      <th>3</th>\n",
       "      <td>The Weeknd</td>\n",
       "      <td>Pop</td>\n",
       "      <td>After Hours</td>\n",
       "      <td>92</td>\n",
       "      <td>2</td>\n",
       "      <td>216.0</td>\n",
       "    </tr>\n",
       "    <tr>\n",
       "      <th>4</th>\n",
       "      <td>Olivia Rodrigo</td>\n",
       "      <td>Pop</td>\n",
       "      <td>SOUR</td>\n",
       "      <td>94</td>\n",
       "      <td>3</td>\n",
       "      <td>178.0</td>\n",
       "    </tr>\n",
       "  </tbody>\n",
       "</table>\n",
       "</div>"
      ],
      "text/plain": [
       "                                     Artist Genre             Album  \\\n",
       "0                                The Weeknd   Pop       After Hours   \n",
       "1                                  Dua Lipa   Pop  Future Nostalgia   \n",
       "2  Justin Bieber ft. Daniel Caesar & Giveon   Pop           Justice   \n",
       "3                                The Weeknd   Pop       After Hours   \n",
       "4                            Olivia Rodrigo   Pop              SOUR   \n",
       "\n",
       "   Popularity  ReleaseMonth  Seconds  \n",
       "0          95             1    202.0  \n",
       "1          93             1    203.0  \n",
       "2          91             2    198.0  \n",
       "3          92             2    216.0  \n",
       "4          94             3    178.0  "
      ]
     },
     "execution_count": 99,
     "metadata": {},
     "output_type": "execute_result"
    }
   ],
   "source": [
    "df_new = df.copy()\n",
    "\n",
    "df_new['ReleaseDate'] = pd.to_datetime(df_new['ReleaseDate'])\n",
    "df_new['Duration'] = df_new['Duration'].apply(lambda x: int(x.split(':')[0]) * 60 + int(x.split(':')[1]))\n",
    "df_new['Duration'] = pd.to_timedelta(df_new['Duration'],unit='s')\n",
    "\n",
    "#df_new['ReleaseYear'] = df_new['ReleaseDate'].dt.year\n",
    "df_new['ReleaseMonth'] = df_new['ReleaseDate'].dt.month\n",
    "\n",
    "df_new['Seconds'] = df_new['Duration'].dt.total_seconds()\n",
    "\n",
    "df_new.head()\n",
    "\n",
    "df_new = df_new.drop(['Title','ReleaseDate','Duration'],axis=1)\n",
    "df_new.head()"
   ]
  },
  {
   "cell_type": "code",
   "execution_count": 100,
   "id": "bfaa814d",
   "metadata": {},
   "outputs": [],
   "source": [
    "le = LabelEncoder()\n",
    "\n",
    "Artist_le = le.fit_transform(df_new['Artist'])\n",
    "Genre_le = le.fit_transform(df_new['Genre'])\n",
    "Album_le = le.fit_transform(df_new['Album'])\n",
    "\n",
    "df_new['Artist_le'] = Artist_le\n",
    "df_new['Genre_le'] = Genre_le\n",
    "df_new['Album_le'] = Album_le\n",
    "\n",
    "df_new = df_new.drop(['Artist','Genre','Album'],axis=1)\n"
   ]
  },
  {
   "cell_type": "code",
   "execution_count": 101,
   "id": "b69e8264",
   "metadata": {},
   "outputs": [
    {
     "data": {
      "text/plain": [
       "0      4\n",
       "1     26\n",
       "2     36\n",
       "3      4\n",
       "4     51\n",
       "      ..\n",
       "95    31\n",
       "96    62\n",
       "97    10\n",
       "98    10\n",
       "99    14\n",
       "Name: Album_le, Length: 100, dtype: int32"
      ]
     },
     "execution_count": 101,
     "metadata": {},
     "output_type": "execute_result"
    }
   ],
   "source": [
    "df_new.Album_le.fillna(st.mean(df_new['Album_le']))"
   ]
  },
  {
   "cell_type": "code",
   "execution_count": 102,
   "id": "8d27b48c",
   "metadata": {},
   "outputs": [],
   "source": [
    "scaler = StandardScaler()\n",
    "\n",
    "df_n = pd.DataFrame({\n",
    "    #'ReleaseYear_s': scaler.fit_transform(df_new[['ReleaseYear']]).reshape(-1),\n",
    "    'ReleaseMonth_s': scaler.fit_transform(df_new[['ReleaseMonth']]).reshape(-1),\n",
    "    'Seconds_s': scaler.fit_transform(df_new[['Seconds']]).reshape(-1),\n",
    "    'Artist_s': scaler.fit_transform(df_new[['Artist_le']]).reshape(-1),\n",
    "    'Genre_s': scaler.fit_transform(df_new[['Genre_le']]).reshape(-1),\n",
    "    'Popularity_s': scaler.fit_transform(df_new[['Popularity']]).reshape(-1),\n",
    "    'Album_s': scaler.fit_transform(df_new[['Album_le']]).reshape(-1)\n",
    "})"
   ]
  },
  {
   "cell_type": "code",
   "execution_count": 103,
   "id": "cf626236",
   "metadata": {},
   "outputs": [
    {
     "data": {
      "text/plain": [
       "pandas.core.frame.DataFrame"
      ]
     },
     "execution_count": 103,
     "metadata": {},
     "output_type": "execute_result"
    }
   ],
   "source": [
    "X = df_n[['Artist_s','Genre_s','ReleaseMonth_s','Seconds_s','Album_s']]\n",
    "y = df_n['Popularity_s']\n",
    "\n",
    "type(X)"
   ]
  },
  {
   "cell_type": "code",
   "execution_count": 104,
   "id": "adc9e039",
   "metadata": {},
   "outputs": [
    {
     "data": {
      "text/html": [
       "<div>\n",
       "<style scoped>\n",
       "    .dataframe tbody tr th:only-of-type {\n",
       "        vertical-align: middle;\n",
       "    }\n",
       "\n",
       "    .dataframe tbody tr th {\n",
       "        vertical-align: top;\n",
       "    }\n",
       "\n",
       "    .dataframe thead th {\n",
       "        text-align: right;\n",
       "    }\n",
       "</style>\n",
       "<table border=\"1\" class=\"dataframe\">\n",
       "  <thead>\n",
       "    <tr style=\"text-align: right;\">\n",
       "      <th></th>\n",
       "      <th>Artist_s</th>\n",
       "      <th>Genre_s</th>\n",
       "      <th>ReleaseMonth_s</th>\n",
       "      <th>Seconds_s</th>\n",
       "      <th>Album_s</th>\n",
       "    </tr>\n",
       "  </thead>\n",
       "  <tbody>\n",
       "    <tr>\n",
       "      <th>0</th>\n",
       "      <td>1.522602</td>\n",
       "      <td>0.478731</td>\n",
       "      <td>-1.591747</td>\n",
       "      <td>-0.000831</td>\n",
       "      <td>-1.416293</td>\n",
       "    </tr>\n",
       "    <tr>\n",
       "      <th>1</th>\n",
       "      <td>-0.571158</td>\n",
       "      <td>0.478731</td>\n",
       "      <td>-1.591747</td>\n",
       "      <td>0.026866</td>\n",
       "      <td>-0.271183</td>\n",
       "    </tr>\n",
       "    <tr>\n",
       "      <th>2</th>\n",
       "      <td>0.061839</td>\n",
       "      <td>0.478731</td>\n",
       "      <td>-1.305976</td>\n",
       "      <td>-0.111619</td>\n",
       "      <td>0.249322</td>\n",
       "    </tr>\n",
       "    <tr>\n",
       "      <th>3</th>\n",
       "      <td>1.522602</td>\n",
       "      <td>0.478731</td>\n",
       "      <td>-1.305976</td>\n",
       "      <td>0.386927</td>\n",
       "      <td>-1.416293</td>\n",
       "    </tr>\n",
       "    <tr>\n",
       "      <th>4</th>\n",
       "      <td>0.840913</td>\n",
       "      <td>0.478731</td>\n",
       "      <td>-1.020204</td>\n",
       "      <td>-0.665559</td>\n",
       "      <td>1.030078</td>\n",
       "    </tr>\n",
       "    <tr>\n",
       "      <th>...</th>\n",
       "      <td>...</td>\n",
       "      <td>...</td>\n",
       "      <td>...</td>\n",
       "      <td>...</td>\n",
       "      <td>...</td>\n",
       "    </tr>\n",
       "    <tr>\n",
       "      <th>95</th>\n",
       "      <td>1.035681</td>\n",
       "      <td>-0.929301</td>\n",
       "      <td>1.551739</td>\n",
       "      <td>-1.191803</td>\n",
       "      <td>-0.010931</td>\n",
       "    </tr>\n",
       "    <tr>\n",
       "      <th>96</th>\n",
       "      <td>-0.230314</td>\n",
       "      <td>1.886763</td>\n",
       "      <td>1.551739</td>\n",
       "      <td>-0.443983</td>\n",
       "      <td>1.602633</td>\n",
       "    </tr>\n",
       "    <tr>\n",
       "      <th>97</th>\n",
       "      <td>-0.863311</td>\n",
       "      <td>1.886763</td>\n",
       "      <td>1.551739</td>\n",
       "      <td>0.276139</td>\n",
       "      <td>-1.103990</td>\n",
       "    </tr>\n",
       "    <tr>\n",
       "      <th>98</th>\n",
       "      <td>-0.912003</td>\n",
       "      <td>1.886763</td>\n",
       "      <td>-1.591747</td>\n",
       "      <td>-0.471680</td>\n",
       "      <td>-1.103990</td>\n",
       "    </tr>\n",
       "    <tr>\n",
       "      <th>99</th>\n",
       "      <td>-0.814619</td>\n",
       "      <td>1.886763</td>\n",
       "      <td>-1.591747</td>\n",
       "      <td>-0.250104</td>\n",
       "      <td>-0.895788</td>\n",
       "    </tr>\n",
       "  </tbody>\n",
       "</table>\n",
       "<p>100 rows × 5 columns</p>\n",
       "</div>"
      ],
      "text/plain": [
       "    Artist_s   Genre_s  ReleaseMonth_s  Seconds_s   Album_s\n",
       "0   1.522602  0.478731       -1.591747  -0.000831 -1.416293\n",
       "1  -0.571158  0.478731       -1.591747   0.026866 -0.271183\n",
       "2   0.061839  0.478731       -1.305976  -0.111619  0.249322\n",
       "3   1.522602  0.478731       -1.305976   0.386927 -1.416293\n",
       "4   0.840913  0.478731       -1.020204  -0.665559  1.030078\n",
       "..       ...       ...             ...        ...       ...\n",
       "95  1.035681 -0.929301        1.551739  -1.191803 -0.010931\n",
       "96 -0.230314  1.886763        1.551739  -0.443983  1.602633\n",
       "97 -0.863311  1.886763        1.551739   0.276139 -1.103990\n",
       "98 -0.912003  1.886763       -1.591747  -0.471680 -1.103990\n",
       "99 -0.814619  1.886763       -1.591747  -0.250104 -0.895788\n",
       "\n",
       "[100 rows x 5 columns]"
      ]
     },
     "execution_count": 104,
     "metadata": {},
     "output_type": "execute_result"
    }
   ],
   "source": [
    "X"
   ]
  },
  {
   "cell_type": "code",
   "execution_count": 105,
   "id": "242ece25",
   "metadata": {},
   "outputs": [
    {
     "data": {
      "text/plain": [
       "0     0.868624\n",
       "1     0.340585\n",
       "2    -0.187454\n",
       "3     0.076566\n",
       "4     0.604605\n",
       "        ...   \n",
       "95   -0.979513\n",
       "96    0.340585\n",
       "97   -0.187454\n",
       "98   -0.715493\n",
       "99   -0.451473\n",
       "Name: Popularity_s, Length: 100, dtype: float64"
      ]
     },
     "execution_count": 105,
     "metadata": {},
     "output_type": "execute_result"
    }
   ],
   "source": [
    "y"
   ]
  },
  {
   "cell_type": "code",
   "execution_count": 106,
   "id": "6710b328",
   "metadata": {},
   "outputs": [],
   "source": [
    "X_train, X_, y_train, y_ = train_test_split(X, y, test_size=0.3, random_state=42)\n",
    "X_cv, X_test, y_cv, y_test = train_test_split(X_, y_, test_size=0.5, random_state=42)\n",
    "\n",
    "del X_,y_"
   ]
  },
  {
   "cell_type": "markdown",
   "id": "a51a2eaf",
   "metadata": {},
   "source": [
    "70% for training set, 15% for Cross Validation set and 15% for test set"
   ]
  },
  {
   "cell_type": "markdown",
   "id": "3fe14dd6",
   "metadata": {},
   "source": [
    "# Model"
   ]
  },
  {
   "cell_type": "markdown",
   "id": "2cf7bc70",
   "metadata": {},
   "source": [
    "## 1. Linear Regression"
   ]
  },
  {
   "cell_type": "code",
   "execution_count": 107,
   "id": "443b103f",
   "metadata": {},
   "outputs": [
    {
     "data": {
      "text/html": [
       "<style>#sk-container-id-9 {color: black;}#sk-container-id-9 pre{padding: 0;}#sk-container-id-9 div.sk-toggleable {background-color: white;}#sk-container-id-9 label.sk-toggleable__label {cursor: pointer;display: block;width: 100%;margin-bottom: 0;padding: 0.3em;box-sizing: border-box;text-align: center;}#sk-container-id-9 label.sk-toggleable__label-arrow:before {content: \"▸\";float: left;margin-right: 0.25em;color: #696969;}#sk-container-id-9 label.sk-toggleable__label-arrow:hover:before {color: black;}#sk-container-id-9 div.sk-estimator:hover label.sk-toggleable__label-arrow:before {color: black;}#sk-container-id-9 div.sk-toggleable__content {max-height: 0;max-width: 0;overflow: hidden;text-align: left;background-color: #f0f8ff;}#sk-container-id-9 div.sk-toggleable__content pre {margin: 0.2em;color: black;border-radius: 0.25em;background-color: #f0f8ff;}#sk-container-id-9 input.sk-toggleable__control:checked~div.sk-toggleable__content {max-height: 200px;max-width: 100%;overflow: auto;}#sk-container-id-9 input.sk-toggleable__control:checked~label.sk-toggleable__label-arrow:before {content: \"▾\";}#sk-container-id-9 div.sk-estimator input.sk-toggleable__control:checked~label.sk-toggleable__label {background-color: #d4ebff;}#sk-container-id-9 div.sk-label input.sk-toggleable__control:checked~label.sk-toggleable__label {background-color: #d4ebff;}#sk-container-id-9 input.sk-hidden--visually {border: 0;clip: rect(1px 1px 1px 1px);clip: rect(1px, 1px, 1px, 1px);height: 1px;margin: -1px;overflow: hidden;padding: 0;position: absolute;width: 1px;}#sk-container-id-9 div.sk-estimator {font-family: monospace;background-color: #f0f8ff;border: 1px dotted black;border-radius: 0.25em;box-sizing: border-box;margin-bottom: 0.5em;}#sk-container-id-9 div.sk-estimator:hover {background-color: #d4ebff;}#sk-container-id-9 div.sk-parallel-item::after {content: \"\";width: 100%;border-bottom: 1px solid gray;flex-grow: 1;}#sk-container-id-9 div.sk-label:hover label.sk-toggleable__label {background-color: #d4ebff;}#sk-container-id-9 div.sk-serial::before {content: \"\";position: absolute;border-left: 1px solid gray;box-sizing: border-box;top: 0;bottom: 0;left: 50%;z-index: 0;}#sk-container-id-9 div.sk-serial {display: flex;flex-direction: column;align-items: center;background-color: white;padding-right: 0.2em;padding-left: 0.2em;position: relative;}#sk-container-id-9 div.sk-item {position: relative;z-index: 1;}#sk-container-id-9 div.sk-parallel {display: flex;align-items: stretch;justify-content: center;background-color: white;position: relative;}#sk-container-id-9 div.sk-item::before, #sk-container-id-9 div.sk-parallel-item::before {content: \"\";position: absolute;border-left: 1px solid gray;box-sizing: border-box;top: 0;bottom: 0;left: 50%;z-index: -1;}#sk-container-id-9 div.sk-parallel-item {display: flex;flex-direction: column;z-index: 1;position: relative;background-color: white;}#sk-container-id-9 div.sk-parallel-item:first-child::after {align-self: flex-end;width: 50%;}#sk-container-id-9 div.sk-parallel-item:last-child::after {align-self: flex-start;width: 50%;}#sk-container-id-9 div.sk-parallel-item:only-child::after {width: 0;}#sk-container-id-9 div.sk-dashed-wrapped {border: 1px dashed gray;margin: 0 0.4em 0.5em 0.4em;box-sizing: border-box;padding-bottom: 0.4em;background-color: white;}#sk-container-id-9 div.sk-label label {font-family: monospace;font-weight: bold;display: inline-block;line-height: 1.2em;}#sk-container-id-9 div.sk-label-container {text-align: center;}#sk-container-id-9 div.sk-container {/* jupyter's `normalize.less` sets `[hidden] { display: none; }` but bootstrap.min.css set `[hidden] { display: none !important; }` so we also need the `!important` here to be able to override the default hidden behavior on the sphinx rendered scikit-learn.org. See: https://github.com/scikit-learn/scikit-learn/issues/21755 */display: inline-block !important;position: relative;}#sk-container-id-9 div.sk-text-repr-fallback {display: none;}</style><div id=\"sk-container-id-9\" class=\"sk-top-container\"><div class=\"sk-text-repr-fallback\"><pre>LinearRegression()</pre><b>In a Jupyter environment, please rerun this cell to show the HTML representation or trust the notebook. <br />On GitHub, the HTML representation is unable to render, please try loading this page with nbviewer.org.</b></div><div class=\"sk-container\" hidden><div class=\"sk-item\"><div class=\"sk-estimator sk-toggleable\"><input class=\"sk-toggleable__control sk-hidden--visually\" id=\"sk-estimator-id-9\" type=\"checkbox\" checked><label for=\"sk-estimator-id-9\" class=\"sk-toggleable__label sk-toggleable__label-arrow\">LinearRegression</label><div class=\"sk-toggleable__content\"><pre>LinearRegression()</pre></div></div></div></div></div>"
      ],
      "text/plain": [
       "LinearRegression()"
      ]
     },
     "execution_count": 107,
     "metadata": {},
     "output_type": "execute_result"
    }
   ],
   "source": [
    "model1 = LinearRegression()\n",
    "model1.fit(X_train,y_train)"
   ]
  },
  {
   "cell_type": "code",
   "execution_count": 108,
   "id": "276ad6ab",
   "metadata": {},
   "outputs": [
    {
     "name": "stdout",
     "output_type": "stream",
     "text": [
      "CV MSE: 0.7534335425728023\n",
      "Test MSE: 1.1395778970269237\n",
      "\n",
      "\n",
      "CV R-Square: -0.08860944858500952\n",
      "Test R-Square: -0.06188246951953569\n"
     ]
    }
   ],
   "source": [
    "yhat1 = model1.predict(X_cv)\n",
    "yhat2 = model1.predict(X_test)\n",
    "\n",
    "print(f\"CV MSE: {mean_squared_error(y_cv,yhat1)}\")\n",
    "print(f\"Test MSE: {mean_squared_error(y_test,yhat2)}\")\n",
    "print(\"\\n\")\n",
    "print(f\"CV R-Square: {r2_score(y_cv,yhat1)}\")\n",
    "print(f\"Test R-Square: {r2_score(y_test,yhat2)}\")"
   ]
  },
  {
   "cell_type": "markdown",
   "id": "02711db1",
   "metadata": {},
   "source": [
    "## 2. Support Vector Regressor"
   ]
  },
  {
   "cell_type": "code",
   "execution_count": 109,
   "id": "c268bb5b",
   "metadata": {},
   "outputs": [
    {
     "data": {
      "text/html": [
       "<style>#sk-container-id-10 {color: black;}#sk-container-id-10 pre{padding: 0;}#sk-container-id-10 div.sk-toggleable {background-color: white;}#sk-container-id-10 label.sk-toggleable__label {cursor: pointer;display: block;width: 100%;margin-bottom: 0;padding: 0.3em;box-sizing: border-box;text-align: center;}#sk-container-id-10 label.sk-toggleable__label-arrow:before {content: \"▸\";float: left;margin-right: 0.25em;color: #696969;}#sk-container-id-10 label.sk-toggleable__label-arrow:hover:before {color: black;}#sk-container-id-10 div.sk-estimator:hover label.sk-toggleable__label-arrow:before {color: black;}#sk-container-id-10 div.sk-toggleable__content {max-height: 0;max-width: 0;overflow: hidden;text-align: left;background-color: #f0f8ff;}#sk-container-id-10 div.sk-toggleable__content pre {margin: 0.2em;color: black;border-radius: 0.25em;background-color: #f0f8ff;}#sk-container-id-10 input.sk-toggleable__control:checked~div.sk-toggleable__content {max-height: 200px;max-width: 100%;overflow: auto;}#sk-container-id-10 input.sk-toggleable__control:checked~label.sk-toggleable__label-arrow:before {content: \"▾\";}#sk-container-id-10 div.sk-estimator input.sk-toggleable__control:checked~label.sk-toggleable__label {background-color: #d4ebff;}#sk-container-id-10 div.sk-label input.sk-toggleable__control:checked~label.sk-toggleable__label {background-color: #d4ebff;}#sk-container-id-10 input.sk-hidden--visually {border: 0;clip: rect(1px 1px 1px 1px);clip: rect(1px, 1px, 1px, 1px);height: 1px;margin: -1px;overflow: hidden;padding: 0;position: absolute;width: 1px;}#sk-container-id-10 div.sk-estimator {font-family: monospace;background-color: #f0f8ff;border: 1px dotted black;border-radius: 0.25em;box-sizing: border-box;margin-bottom: 0.5em;}#sk-container-id-10 div.sk-estimator:hover {background-color: #d4ebff;}#sk-container-id-10 div.sk-parallel-item::after {content: \"\";width: 100%;border-bottom: 1px solid gray;flex-grow: 1;}#sk-container-id-10 div.sk-label:hover label.sk-toggleable__label {background-color: #d4ebff;}#sk-container-id-10 div.sk-serial::before {content: \"\";position: absolute;border-left: 1px solid gray;box-sizing: border-box;top: 0;bottom: 0;left: 50%;z-index: 0;}#sk-container-id-10 div.sk-serial {display: flex;flex-direction: column;align-items: center;background-color: white;padding-right: 0.2em;padding-left: 0.2em;position: relative;}#sk-container-id-10 div.sk-item {position: relative;z-index: 1;}#sk-container-id-10 div.sk-parallel {display: flex;align-items: stretch;justify-content: center;background-color: white;position: relative;}#sk-container-id-10 div.sk-item::before, #sk-container-id-10 div.sk-parallel-item::before {content: \"\";position: absolute;border-left: 1px solid gray;box-sizing: border-box;top: 0;bottom: 0;left: 50%;z-index: -1;}#sk-container-id-10 div.sk-parallel-item {display: flex;flex-direction: column;z-index: 1;position: relative;background-color: white;}#sk-container-id-10 div.sk-parallel-item:first-child::after {align-self: flex-end;width: 50%;}#sk-container-id-10 div.sk-parallel-item:last-child::after {align-self: flex-start;width: 50%;}#sk-container-id-10 div.sk-parallel-item:only-child::after {width: 0;}#sk-container-id-10 div.sk-dashed-wrapped {border: 1px dashed gray;margin: 0 0.4em 0.5em 0.4em;box-sizing: border-box;padding-bottom: 0.4em;background-color: white;}#sk-container-id-10 div.sk-label label {font-family: monospace;font-weight: bold;display: inline-block;line-height: 1.2em;}#sk-container-id-10 div.sk-label-container {text-align: center;}#sk-container-id-10 div.sk-container {/* jupyter's `normalize.less` sets `[hidden] { display: none; }` but bootstrap.min.css set `[hidden] { display: none !important; }` so we also need the `!important` here to be able to override the default hidden behavior on the sphinx rendered scikit-learn.org. See: https://github.com/scikit-learn/scikit-learn/issues/21755 */display: inline-block !important;position: relative;}#sk-container-id-10 div.sk-text-repr-fallback {display: none;}</style><div id=\"sk-container-id-10\" class=\"sk-top-container\"><div class=\"sk-text-repr-fallback\"><pre>SVR()</pre><b>In a Jupyter environment, please rerun this cell to show the HTML representation or trust the notebook. <br />On GitHub, the HTML representation is unable to render, please try loading this page with nbviewer.org.</b></div><div class=\"sk-container\" hidden><div class=\"sk-item\"><div class=\"sk-estimator sk-toggleable\"><input class=\"sk-toggleable__control sk-hidden--visually\" id=\"sk-estimator-id-10\" type=\"checkbox\" checked><label for=\"sk-estimator-id-10\" class=\"sk-toggleable__label sk-toggleable__label-arrow\">SVR</label><div class=\"sk-toggleable__content\"><pre>SVR()</pre></div></div></div></div></div>"
      ],
      "text/plain": [
       "SVR()"
      ]
     },
     "execution_count": 109,
     "metadata": {},
     "output_type": "execute_result"
    }
   ],
   "source": [
    "svr = SVR()\n",
    "svr.fit(X_train,y_train.ravel())"
   ]
  },
  {
   "cell_type": "code",
   "execution_count": 110,
   "id": "93ad8bfc",
   "metadata": {},
   "outputs": [
    {
     "name": "stdout",
     "output_type": "stream",
     "text": [
      "CV MSE: 0.7608538049885609\n",
      "Test MSE: 1.1392434736403372\n",
      "\n",
      "\n",
      "CV R-Square: -0.0993307230177769\n",
      "Test R-Square: -0.06157084682788816\n"
     ]
    }
   ],
   "source": [
    "yhat3 = svr.predict(X_cv)\n",
    "yhat4 = svr.predict(X_test)\n",
    "\n",
    "print(f\"CV MSE: {mean_squared_error(y_cv,yhat3)}\")\n",
    "print(f\"Test MSE: {mean_squared_error(y_test,yhat4)}\")\n",
    "print(\"\\n\")\n",
    "print(f\"CV R-Square: {r2_score(y_cv,yhat3)}\")\n",
    "print(f\"Test R-Square: {r2_score(y_test,yhat4)}\")"
   ]
  },
  {
   "cell_type": "markdown",
   "id": "148245e5",
   "metadata": {},
   "source": [
    "## 3. Random Forest Regressor"
   ]
  },
  {
   "cell_type": "code",
   "execution_count": 111,
   "id": "e670435e",
   "metadata": {},
   "outputs": [
    {
     "data": {
      "text/html": [
       "<style>#sk-container-id-11 {color: black;}#sk-container-id-11 pre{padding: 0;}#sk-container-id-11 div.sk-toggleable {background-color: white;}#sk-container-id-11 label.sk-toggleable__label {cursor: pointer;display: block;width: 100%;margin-bottom: 0;padding: 0.3em;box-sizing: border-box;text-align: center;}#sk-container-id-11 label.sk-toggleable__label-arrow:before {content: \"▸\";float: left;margin-right: 0.25em;color: #696969;}#sk-container-id-11 label.sk-toggleable__label-arrow:hover:before {color: black;}#sk-container-id-11 div.sk-estimator:hover label.sk-toggleable__label-arrow:before {color: black;}#sk-container-id-11 div.sk-toggleable__content {max-height: 0;max-width: 0;overflow: hidden;text-align: left;background-color: #f0f8ff;}#sk-container-id-11 div.sk-toggleable__content pre {margin: 0.2em;color: black;border-radius: 0.25em;background-color: #f0f8ff;}#sk-container-id-11 input.sk-toggleable__control:checked~div.sk-toggleable__content {max-height: 200px;max-width: 100%;overflow: auto;}#sk-container-id-11 input.sk-toggleable__control:checked~label.sk-toggleable__label-arrow:before {content: \"▾\";}#sk-container-id-11 div.sk-estimator input.sk-toggleable__control:checked~label.sk-toggleable__label {background-color: #d4ebff;}#sk-container-id-11 div.sk-label input.sk-toggleable__control:checked~label.sk-toggleable__label {background-color: #d4ebff;}#sk-container-id-11 input.sk-hidden--visually {border: 0;clip: rect(1px 1px 1px 1px);clip: rect(1px, 1px, 1px, 1px);height: 1px;margin: -1px;overflow: hidden;padding: 0;position: absolute;width: 1px;}#sk-container-id-11 div.sk-estimator {font-family: monospace;background-color: #f0f8ff;border: 1px dotted black;border-radius: 0.25em;box-sizing: border-box;margin-bottom: 0.5em;}#sk-container-id-11 div.sk-estimator:hover {background-color: #d4ebff;}#sk-container-id-11 div.sk-parallel-item::after {content: \"\";width: 100%;border-bottom: 1px solid gray;flex-grow: 1;}#sk-container-id-11 div.sk-label:hover label.sk-toggleable__label {background-color: #d4ebff;}#sk-container-id-11 div.sk-serial::before {content: \"\";position: absolute;border-left: 1px solid gray;box-sizing: border-box;top: 0;bottom: 0;left: 50%;z-index: 0;}#sk-container-id-11 div.sk-serial {display: flex;flex-direction: column;align-items: center;background-color: white;padding-right: 0.2em;padding-left: 0.2em;position: relative;}#sk-container-id-11 div.sk-item {position: relative;z-index: 1;}#sk-container-id-11 div.sk-parallel {display: flex;align-items: stretch;justify-content: center;background-color: white;position: relative;}#sk-container-id-11 div.sk-item::before, #sk-container-id-11 div.sk-parallel-item::before {content: \"\";position: absolute;border-left: 1px solid gray;box-sizing: border-box;top: 0;bottom: 0;left: 50%;z-index: -1;}#sk-container-id-11 div.sk-parallel-item {display: flex;flex-direction: column;z-index: 1;position: relative;background-color: white;}#sk-container-id-11 div.sk-parallel-item:first-child::after {align-self: flex-end;width: 50%;}#sk-container-id-11 div.sk-parallel-item:last-child::after {align-self: flex-start;width: 50%;}#sk-container-id-11 div.sk-parallel-item:only-child::after {width: 0;}#sk-container-id-11 div.sk-dashed-wrapped {border: 1px dashed gray;margin: 0 0.4em 0.5em 0.4em;box-sizing: border-box;padding-bottom: 0.4em;background-color: white;}#sk-container-id-11 div.sk-label label {font-family: monospace;font-weight: bold;display: inline-block;line-height: 1.2em;}#sk-container-id-11 div.sk-label-container {text-align: center;}#sk-container-id-11 div.sk-container {/* jupyter's `normalize.less` sets `[hidden] { display: none; }` but bootstrap.min.css set `[hidden] { display: none !important; }` so we also need the `!important` here to be able to override the default hidden behavior on the sphinx rendered scikit-learn.org. See: https://github.com/scikit-learn/scikit-learn/issues/21755 */display: inline-block !important;position: relative;}#sk-container-id-11 div.sk-text-repr-fallback {display: none;}</style><div id=\"sk-container-id-11\" class=\"sk-top-container\"><div class=\"sk-text-repr-fallback\"><pre>RandomForestRegressor()</pre><b>In a Jupyter environment, please rerun this cell to show the HTML representation or trust the notebook. <br />On GitHub, the HTML representation is unable to render, please try loading this page with nbviewer.org.</b></div><div class=\"sk-container\" hidden><div class=\"sk-item\"><div class=\"sk-estimator sk-toggleable\"><input class=\"sk-toggleable__control sk-hidden--visually\" id=\"sk-estimator-id-11\" type=\"checkbox\" checked><label for=\"sk-estimator-id-11\" class=\"sk-toggleable__label sk-toggleable__label-arrow\">RandomForestRegressor</label><div class=\"sk-toggleable__content\"><pre>RandomForestRegressor()</pre></div></div></div></div></div>"
      ],
      "text/plain": [
       "RandomForestRegressor()"
      ]
     },
     "execution_count": 111,
     "metadata": {},
     "output_type": "execute_result"
    }
   ],
   "source": [
    "rfr = RandomForestRegressor()\n",
    "rfr.fit(X_train,y_train)"
   ]
  },
  {
   "cell_type": "code",
   "execution_count": 112,
   "id": "177cedbf",
   "metadata": {},
   "outputs": [
    {
     "name": "stdout",
     "output_type": "stream",
     "text": [
      "CV MSE: 1.122082267407413\n",
      "Test MSE: 1.425409815115585\n",
      "\n",
      "\n",
      "CV R-Square: -0.6212569382273947\n",
      "Test R-Square: -0.3282266166281753\n"
     ]
    }
   ],
   "source": [
    "yhat5 = rfr.predict(X_cv)\n",
    "yhat6 = rfr.predict(X_test)\n",
    "\n",
    "print(f\"CV MSE: {mean_squared_error(y_cv,yhat5)}\")\n",
    "print(f\"Test MSE: {mean_squared_error(y_test,yhat6)}\")\n",
    "print(\"\\n\")\n",
    "print(f\"CV R-Square: {r2_score(y_cv,yhat5)}\")\n",
    "print(f\"Test R-Square: {r2_score(y_test,yhat6)}\")"
   ]
  },
  {
   "cell_type": "markdown",
   "id": "d88e4001",
   "metadata": {},
   "source": [
    "### Hence Support Vector Regressor is the best model for this dataset"
   ]
  },
  {
   "cell_type": "code",
   "execution_count": null,
   "id": "7bc26f10",
   "metadata": {},
   "outputs": [],
   "source": []
  }
 ],
 "metadata": {
  "kernelspec": {
   "display_name": "Python 3 (ipykernel)",
   "language": "python",
   "name": "python3"
  },
  "language_info": {
   "codemirror_mode": {
    "name": "ipython",
    "version": 3
   },
   "file_extension": ".py",
   "mimetype": "text/x-python",
   "name": "python",
   "nbconvert_exporter": "python",
   "pygments_lexer": "ipython3",
   "version": "3.11.5"
  }
 },
 "nbformat": 4,
 "nbformat_minor": 5
}
