{
 "cells": [
  {
   "cell_type": "code",
   "execution_count": 409,
   "id": "73bf1ee6",
   "metadata": {},
   "outputs": [],
   "source": [
    "import numpy as np\n",
    "import pandas as pd\n",
    "import matplotlib.pyplot as plt\n",
    "import statistics as st\n",
    "from sklearn.model_selection import train_test_split\n",
    "from sklearn.linear_model import LinearRegression\n",
    "from sklearn.ensemble import RandomForestRegressor,GradientBoostingRegressor\n",
    "from sklearn.tree import DecisionTreeRegressor\n",
    "from sklearn.metrics import mean_squared_error,r2_score\n",
    "from sklearn.preprocessing import StandardScaler\n",
    "from sklearn.preprocessing import LabelEncoder\n"
   ]
  },
  {
   "cell_type": "markdown",
   "id": "89797dc8",
   "metadata": {},
   "source": [
    "# Exploratory Data Analysis"
   ]
  },
  {
   "cell_type": "code",
   "execution_count": 410,
   "id": "57ae6276",
   "metadata": {},
   "outputs": [],
   "source": [
    "df = pd.read_csv('global_ai_ml_data_salaries.csv')"
   ]
  },
  {
   "cell_type": "markdown",
   "id": "6b7b3d46",
   "metadata": {},
   "source": [
    "Create pandas Dataframe by reading the CSV file using pandas method"
   ]
  },
  {
   "cell_type": "code",
   "execution_count": 411,
   "id": "abaf26e3",
   "metadata": {},
   "outputs": [
    {
     "data": {
      "text/html": [
       "<div>\n",
       "<style scoped>\n",
       "    .dataframe tbody tr th:only-of-type {\n",
       "        vertical-align: middle;\n",
       "    }\n",
       "\n",
       "    .dataframe tbody tr th {\n",
       "        vertical-align: top;\n",
       "    }\n",
       "\n",
       "    .dataframe thead th {\n",
       "        text-align: right;\n",
       "    }\n",
       "</style>\n",
       "<table border=\"1\" class=\"dataframe\">\n",
       "  <thead>\n",
       "    <tr style=\"text-align: right;\">\n",
       "      <th></th>\n",
       "      <th>work_year</th>\n",
       "      <th>experience_level</th>\n",
       "      <th>employment_type</th>\n",
       "      <th>job_title</th>\n",
       "      <th>salary</th>\n",
       "      <th>salary_currency</th>\n",
       "      <th>salary_in_usd</th>\n",
       "      <th>employee_residence</th>\n",
       "      <th>remote_ratio</th>\n",
       "      <th>company_location</th>\n",
       "      <th>company_size</th>\n",
       "    </tr>\n",
       "  </thead>\n",
       "  <tbody>\n",
       "    <tr>\n",
       "      <th>0</th>\n",
       "      <td>2024</td>\n",
       "      <td>MI</td>\n",
       "      <td>FT</td>\n",
       "      <td>Business Intelligence</td>\n",
       "      <td>84021</td>\n",
       "      <td>USD</td>\n",
       "      <td>84021</td>\n",
       "      <td>CA</td>\n",
       "      <td>0</td>\n",
       "      <td>CA</td>\n",
       "      <td>M</td>\n",
       "    </tr>\n",
       "    <tr>\n",
       "      <th>1</th>\n",
       "      <td>2024</td>\n",
       "      <td>MI</td>\n",
       "      <td>FT</td>\n",
       "      <td>Business Intelligence</td>\n",
       "      <td>69000</td>\n",
       "      <td>USD</td>\n",
       "      <td>69000</td>\n",
       "      <td>CA</td>\n",
       "      <td>0</td>\n",
       "      <td>CA</td>\n",
       "      <td>M</td>\n",
       "    </tr>\n",
       "    <tr>\n",
       "      <th>2</th>\n",
       "      <td>2024</td>\n",
       "      <td>SE</td>\n",
       "      <td>FT</td>\n",
       "      <td>BI Developer</td>\n",
       "      <td>241600</td>\n",
       "      <td>USD</td>\n",
       "      <td>241600</td>\n",
       "      <td>US</td>\n",
       "      <td>0</td>\n",
       "      <td>US</td>\n",
       "      <td>M</td>\n",
       "    </tr>\n",
       "    <tr>\n",
       "      <th>3</th>\n",
       "      <td>2024</td>\n",
       "      <td>SE</td>\n",
       "      <td>FT</td>\n",
       "      <td>BI Developer</td>\n",
       "      <td>109800</td>\n",
       "      <td>USD</td>\n",
       "      <td>109800</td>\n",
       "      <td>US</td>\n",
       "      <td>0</td>\n",
       "      <td>US</td>\n",
       "      <td>M</td>\n",
       "    </tr>\n",
       "    <tr>\n",
       "      <th>4</th>\n",
       "      <td>2024</td>\n",
       "      <td>SE</td>\n",
       "      <td>FT</td>\n",
       "      <td>Machine Learning Modeler</td>\n",
       "      <td>245400</td>\n",
       "      <td>USD</td>\n",
       "      <td>245400</td>\n",
       "      <td>US</td>\n",
       "      <td>100</td>\n",
       "      <td>US</td>\n",
       "      <td>M</td>\n",
       "    </tr>\n",
       "  </tbody>\n",
       "</table>\n",
       "</div>"
      ],
      "text/plain": [
       "   work_year experience_level employment_type                 job_title  \\\n",
       "0       2024               MI              FT     Business Intelligence   \n",
       "1       2024               MI              FT     Business Intelligence   \n",
       "2       2024               SE              FT              BI Developer   \n",
       "3       2024               SE              FT              BI Developer   \n",
       "4       2024               SE              FT  Machine Learning Modeler   \n",
       "\n",
       "   salary salary_currency  salary_in_usd employee_residence  remote_ratio  \\\n",
       "0   84021             USD          84021                 CA             0   \n",
       "1   69000             USD          69000                 CA             0   \n",
       "2  241600             USD         241600                 US             0   \n",
       "3  109800             USD         109800                 US             0   \n",
       "4  245400             USD         245400                 US           100   \n",
       "\n",
       "  company_location company_size  \n",
       "0               CA            M  \n",
       "1               CA            M  \n",
       "2               US            M  \n",
       "3               US            M  \n",
       "4               US            M  "
      ]
     },
     "execution_count": 411,
     "metadata": {},
     "output_type": "execute_result"
    }
   ],
   "source": [
    "df.head()"
   ]
  },
  {
   "cell_type": "markdown",
   "id": "e859c165",
   "metadata": {},
   "source": [
    "Check the First 5 of the dataframe"
   ]
  },
  {
   "cell_type": "code",
   "execution_count": 412,
   "id": "0a9ddc08",
   "metadata": {},
   "outputs": [
    {
     "name": "stdout",
     "output_type": "stream",
     "text": [
      "<class 'pandas.core.frame.DataFrame'>\n",
      "RangeIndex: 19775 entries, 0 to 19774\n",
      "Data columns (total 11 columns):\n",
      " #   Column              Non-Null Count  Dtype \n",
      "---  ------              --------------  ----- \n",
      " 0   work_year           19775 non-null  int64 \n",
      " 1   experience_level    19775 non-null  object\n",
      " 2   employment_type     19775 non-null  object\n",
      " 3   job_title           19775 non-null  object\n",
      " 4   salary              19775 non-null  int64 \n",
      " 5   salary_currency     19775 non-null  object\n",
      " 6   salary_in_usd       19775 non-null  int64 \n",
      " 7   employee_residence  19775 non-null  object\n",
      " 8   remote_ratio        19775 non-null  int64 \n",
      " 9   company_location    19775 non-null  object\n",
      " 10  company_size        19775 non-null  object\n",
      "dtypes: int64(4), object(7)\n",
      "memory usage: 1.7+ MB\n"
     ]
    }
   ],
   "source": [
    "df.info()"
   ]
  },
  {
   "cell_type": "markdown",
   "id": "aee57303",
   "metadata": {},
   "source": [
    "No Missing Value/Null Value in this dataset"
   ]
  },
  {
   "cell_type": "code",
   "execution_count": 413,
   "id": "1aea3a08",
   "metadata": {},
   "outputs": [
    {
     "name": "stdout",
     "output_type": "stream",
     "text": [
      "work_year             0\n",
      "experience_level      0\n",
      "employment_type       0\n",
      "job_title             0\n",
      "salary                0\n",
      "salary_currency       0\n",
      "salary_in_usd         0\n",
      "employee_residence    0\n",
      "remote_ratio          0\n",
      "company_location      0\n",
      "company_size          0\n",
      "dtype: int64\n"
     ]
    }
   ],
   "source": [
    "print(df.isnull().sum())"
   ]
  },
  {
   "cell_type": "markdown",
   "id": "887a44c8",
   "metadata": {},
   "source": [
    "Checked it again and there are 19775 values in all columns , so no need to drop any columns or rows or fill any values"
   ]
  },
  {
   "cell_type": "code",
   "execution_count": 414,
   "id": "a6cb6d62",
   "metadata": {
    "scrolled": true
   },
   "outputs": [
    {
     "data": {
      "text/html": [
       "<div>\n",
       "<style scoped>\n",
       "    .dataframe tbody tr th:only-of-type {\n",
       "        vertical-align: middle;\n",
       "    }\n",
       "\n",
       "    .dataframe tbody tr th {\n",
       "        vertical-align: top;\n",
       "    }\n",
       "\n",
       "    .dataframe thead th {\n",
       "        text-align: right;\n",
       "    }\n",
       "</style>\n",
       "<table border=\"1\" class=\"dataframe\">\n",
       "  <thead>\n",
       "    <tr style=\"text-align: right;\">\n",
       "      <th></th>\n",
       "      <th>work_year</th>\n",
       "      <th>salary</th>\n",
       "      <th>salary_in_usd</th>\n",
       "      <th>remote_ratio</th>\n",
       "    </tr>\n",
       "  </thead>\n",
       "  <tbody>\n",
       "    <tr>\n",
       "      <th>count</th>\n",
       "      <td>19775.000000</td>\n",
       "      <td>1.977500e+04</td>\n",
       "      <td>19775.000000</td>\n",
       "      <td>19775.000000</td>\n",
       "    </tr>\n",
       "    <tr>\n",
       "      <th>mean</th>\n",
       "      <td>2023.353527</td>\n",
       "      <td>1.628728e+05</td>\n",
       "      <td>150935.295322</td>\n",
       "      <td>29.886220</td>\n",
       "    </tr>\n",
       "    <tr>\n",
       "      <th>std</th>\n",
       "      <td>0.712468</td>\n",
       "      <td>3.128112e+05</td>\n",
       "      <td>68561.127186</td>\n",
       "      <td>45.427765</td>\n",
       "    </tr>\n",
       "    <tr>\n",
       "      <th>min</th>\n",
       "      <td>2020.000000</td>\n",
       "      <td>1.400000e+04</td>\n",
       "      <td>15000.000000</td>\n",
       "      <td>0.000000</td>\n",
       "    </tr>\n",
       "    <tr>\n",
       "      <th>25%</th>\n",
       "      <td>2023.000000</td>\n",
       "      <td>1.039770e+05</td>\n",
       "      <td>103200.000000</td>\n",
       "      <td>0.000000</td>\n",
       "    </tr>\n",
       "    <tr>\n",
       "      <th>50%</th>\n",
       "      <td>2023.000000</td>\n",
       "      <td>1.430000e+05</td>\n",
       "      <td>142200.000000</td>\n",
       "      <td>0.000000</td>\n",
       "    </tr>\n",
       "    <tr>\n",
       "      <th>75%</th>\n",
       "      <td>2024.000000</td>\n",
       "      <td>1.900000e+05</td>\n",
       "      <td>189650.000000</td>\n",
       "      <td>100.000000</td>\n",
       "    </tr>\n",
       "    <tr>\n",
       "      <th>max</th>\n",
       "      <td>2024.000000</td>\n",
       "      <td>3.040000e+07</td>\n",
       "      <td>800000.000000</td>\n",
       "      <td>100.000000</td>\n",
       "    </tr>\n",
       "  </tbody>\n",
       "</table>\n",
       "</div>"
      ],
      "text/plain": [
       "          work_year        salary  salary_in_usd  remote_ratio\n",
       "count  19775.000000  1.977500e+04   19775.000000  19775.000000\n",
       "mean    2023.353527  1.628728e+05  150935.295322     29.886220\n",
       "std        0.712468  3.128112e+05   68561.127186     45.427765\n",
       "min     2020.000000  1.400000e+04   15000.000000      0.000000\n",
       "25%     2023.000000  1.039770e+05  103200.000000      0.000000\n",
       "50%     2023.000000  1.430000e+05  142200.000000      0.000000\n",
       "75%     2024.000000  1.900000e+05  189650.000000    100.000000\n",
       "max     2024.000000  3.040000e+07  800000.000000    100.000000"
      ]
     },
     "execution_count": 414,
     "metadata": {},
     "output_type": "execute_result"
    }
   ],
   "source": [
    "df.describe()"
   ]
  },
  {
   "cell_type": "markdown",
   "id": "3887e2fe",
   "metadata": {},
   "source": [
    "# Data Visualization"
   ]
  },
  {
   "cell_type": "code",
   "execution_count": 415,
   "id": "2966cc6b",
   "metadata": {},
   "outputs": [
    {
     "data": {
      "image/png": "[encoded data removed]",
      "text/plain": [
       "<Figure size 640x480 with 1 Axes>"
      ]
     },
     "metadata": {},
     "output_type": "display_data"
    }
   ],
   "source": [
    "plt.hist(df['salary_in_usd'], bins=50)\n",
    "plt.show()"
   ]
  },
  {
   "cell_type": "markdown",
   "id": "683e7e2b",
   "metadata": {},
   "source": [
    "Let us look at the amount of outliers in data"
   ]
  },
  {
   "cell_type": "code",
   "execution_count": 416,
   "id": "1c6b5046",
   "metadata": {},
   "outputs": [
    {
     "data": {
      "image/png": "[encoded data removed]",
      "text/plain": [
       "<Figure size 640x480 with 1 Axes>"
      ]
     },
     "metadata": {},
     "output_type": "display_data"
    }
   ],
   "source": [
    "plt.boxplot(df['salary_in_usd'])\n",
    "plt.show()"
   ]
  },
  {
   "cell_type": "markdown",
   "id": "63fe3e37",
   "metadata": {},
   "source": [
    "Let us find the number of outliers showing in the boxplot. These data points deviate from the rest of the normal data"
   ]
  },
  {
   "cell_type": "code",
   "execution_count": 417,
   "id": "e87f8a8e",
   "metadata": {},
   "outputs": [],
   "source": [
    "def find_anomalities(df):\n",
    "    anomality = []\n",
    "    \n",
    "    data_std = st.stdev(df)\n",
    "    data_mean = st.mean(df)\n",
    "    data_out = data_std * 3\n",
    "    \n",
    "    lower_limit = data_mean - data_out\n",
    "    upper_limit = data_mean + data_out\n",
    "    \n",
    "    for outlier in df:\n",
    "        if (outlier<lower_limit or outlier>upper_limit):\n",
    "            anomality.append(outlier)\n",
    "    \n",
    "    return anomality,lower_limit,upper_limit"
   ]
  },
  {
   "cell_type": "code",
   "execution_count": 418,
   "id": "20cf60c3",
   "metadata": {},
   "outputs": [
    {
     "data": {
      "text/plain": [
       "158"
      ]
     },
     "execution_count": 418,
     "metadata": {},
     "output_type": "execute_result"
    }
   ],
   "source": [
    "anomaly, lower_limit, upper_limit = find_anomalities(df['salary_in_usd'])\n",
    "len(anomaly)"
   ]
  },
  {
   "cell_type": "code",
   "execution_count": 419,
   "id": "8f61aea6",
   "metadata": {},
   "outputs": [
    {
     "name": "stdout",
     "output_type": "stream",
     "text": [
      "0.7989886219974716\n"
     ]
    }
   ],
   "source": [
    "print((len(anomaly)/len(df))*100)"
   ]
  },
  {
   "cell_type": "markdown",
   "id": "b1a761db",
   "metadata": {},
   "source": [
    "Reduce the outliers or anomalies"
   ]
  },
  {
   "cell_type": "code",
   "execution_count": 420,
   "id": "d9babad4",
   "metadata": {},
   "outputs": [
    {
     "data": {
      "image/png": "[encoded data removed]",
      "text/plain": [
       "<Figure size 640x480 with 1 Axes>"
      ]
     },
     "metadata": {},
     "output_type": "display_data"
    }
   ],
   "source": [
    "outliers = [i for i, x in enumerate(df['salary_in_usd']) if x < lower_limit or x > upper_limit]\n",
    "df_clean = df.drop(outliers)\n",
    "df = df_clean\n",
    "plt.boxplot(df_clean['salary_in_usd'])\n",
    "plt.show()"
   ]
  },
  {
   "cell_type": "markdown",
   "id": "3d435a80",
   "metadata": {},
   "source": [
    "# Data Preprocessing"
   ]
  },
  {
   "cell_type": "code",
   "execution_count": 421,
   "id": "e533ca8a",
   "metadata": {},
   "outputs": [
    {
     "name": "stdout",
     "output_type": "stream",
     "text": [
      "salary_in_usd    1.000000\n",
      "salary           0.132992\n",
      "work_year        0.078396\n",
      "remote_ratio    -0.057898\n",
      "Name: salary_in_usd, dtype: float64\n"
     ]
    }
   ],
   "source": [
    "numerical_cols = df.select_dtypes(include=[np.number]).columns\n",
    "corr_matrix = df[numerical_cols].corr()\n",
    "print(corr_matrix['salary_in_usd'].sort_values(ascending=False))"
   ]
  },
  {
   "cell_type": "markdown",
   "id": "8d8a9959",
   "metadata": {},
   "source": [
    "Correlation of all numerical features look weak"
   ]
  },
  {
   "cell_type": "code",
   "execution_count": 423,
   "id": "5112c8ce",
   "metadata": {},
   "outputs": [
    {
     "name": "stdout",
     "output_type": "stream",
     "text": [
      "['MI' 'SE' 'EN' 'EX']\n",
      "['FT' 'PT' 'CT' 'FL']\n",
      "['M' 'L' 'S']\n",
      "146\n",
      "['USD' 'EUR' 'GBP' 'ZAR' 'CAD' 'SEK' 'PLN' 'INR' 'DKK' 'ILS' 'BRL' 'CHF'\n",
      " 'NZD' 'AUD' 'PHP' 'TRY' 'NOK' 'JPY' 'HKD' 'SGD' 'THB' 'HUF' 'MXN' 'CLP']\n"
     ]
    }
   ],
   "source": [
    "print(df.experience_level.unique())\n",
    "print(df.employment_type.unique())\n",
    "print(df.company_size.unique())\n",
    "print(len(df.job_title.unique()))\n",
    "print(df.salary_currency.unique())"
   ]
  },
  {
   "cell_type": "code",
   "execution_count": 424,
   "id": "c3511065",
   "metadata": {},
   "outputs": [],
   "source": [
    "X = df[['experience_level','employment_type','company_size']]\n",
    "y = df[['salary_in_usd']]"
   ]
  },
  {
   "cell_type": "code",
   "execution_count": 425,
   "id": "f52ebba2",
   "metadata": {},
   "outputs": [
    {
     "data": {
      "text/html": [
       "<div>\n",
       "<style scoped>\n",
       "    .dataframe tbody tr th:only-of-type {\n",
       "        vertical-align: middle;\n",
       "    }\n",
       "\n",
       "    .dataframe tbody tr th {\n",
       "        vertical-align: top;\n",
       "    }\n",
       "\n",
       "    .dataframe thead th {\n",
       "        text-align: right;\n",
       "    }\n",
       "</style>\n",
       "<table border=\"1\" class=\"dataframe\">\n",
       "  <thead>\n",
       "    <tr style=\"text-align: right;\">\n",
       "      <th></th>\n",
       "      <th>salary_in_usd</th>\n",
       "    </tr>\n",
       "  </thead>\n",
       "  <tbody>\n",
       "    <tr>\n",
       "      <th>0</th>\n",
       "      <td>84021</td>\n",
       "    </tr>\n",
       "    <tr>\n",
       "      <th>1</th>\n",
       "      <td>69000</td>\n",
       "    </tr>\n",
       "    <tr>\n",
       "      <th>2</th>\n",
       "      <td>241600</td>\n",
       "    </tr>\n",
       "    <tr>\n",
       "      <th>3</th>\n",
       "      <td>109800</td>\n",
       "    </tr>\n",
       "    <tr>\n",
       "      <th>4</th>\n",
       "      <td>245400</td>\n",
       "    </tr>\n",
       "    <tr>\n",
       "      <th>...</th>\n",
       "      <td>...</td>\n",
       "    </tr>\n",
       "    <tr>\n",
       "      <th>19769</th>\n",
       "      <td>165000</td>\n",
       "    </tr>\n",
       "    <tr>\n",
       "      <th>19771</th>\n",
       "      <td>151000</td>\n",
       "    </tr>\n",
       "    <tr>\n",
       "      <th>19772</th>\n",
       "      <td>105000</td>\n",
       "    </tr>\n",
       "    <tr>\n",
       "      <th>19773</th>\n",
       "      <td>100000</td>\n",
       "    </tr>\n",
       "    <tr>\n",
       "      <th>19774</th>\n",
       "      <td>94665</td>\n",
       "    </tr>\n",
       "  </tbody>\n",
       "</table>\n",
       "<p>19617 rows × 1 columns</p>\n",
       "</div>"
      ],
      "text/plain": [
       "       salary_in_usd\n",
       "0              84021\n",
       "1              69000\n",
       "2             241600\n",
       "3             109800\n",
       "4             245400\n",
       "...              ...\n",
       "19769         165000\n",
       "19771         151000\n",
       "19772         105000\n",
       "19773         100000\n",
       "19774          94665\n",
       "\n",
       "[19617 rows x 1 columns]"
      ]
     },
     "execution_count": 425,
     "metadata": {},
     "output_type": "execute_result"
    }
   ],
   "source": [
    "y"
   ]
  },
  {
   "cell_type": "code",
   "execution_count": 426,
   "id": "6cac7f0c",
   "metadata": {},
   "outputs": [],
   "source": [
    "scaler_linear = StandardScaler()\n",
    "y_scaled = scaler_linear.fit_transform(y)"
   ]
  },
  {
   "cell_type": "markdown",
   "id": "77abd81b",
   "metadata": {},
   "source": [
    "Using One hot encoding"
   ]
  },
  {
   "cell_type": "code",
   "execution_count": 427,
   "id": "6aa809ef",
   "metadata": {},
   "outputs": [],
   "source": [
    "df_ohe = pd.get_dummies(df, columns=['experience_level', 'employment_type', 'company_size'])\n",
    "\n",
    "le = LabelEncoder()\n",
    "job_title_encoded = le.fit_transform(df_ohe['job_title'])\n",
    "df_ohe['job_title_encoded'] = job_title_encoded\n",
    "\n",
    "salary_currency_encoded = le.fit_transform(df_ohe['salary_currency'])\n",
    "df_ohe['salary_currency_encoded'] = salary_currency_encoded"
   ]
  },
  {
   "cell_type": "markdown",
   "id": "58291dd4",
   "metadata": {},
   "source": [
    "Using Label Encoding"
   ]
  },
  {
   "cell_type": "code",
   "execution_count": 428,
   "id": "3789d0e1",
   "metadata": {},
   "outputs": [],
   "source": [
    "job_title_s = scaler_linear.fit_transform(job_title_encoded.reshape(-1,1))\n",
    "salary_currency_s = scaler_linear.fit_transform(salary_currency_encoded.reshape(-1,1))\n",
    "\n",
    "df_ohe['job_title_s'] = job_title_s\n",
    "df_ohe['salary_currency_s'] = salary_currency_s"
   ]
  },
  {
   "cell_type": "markdown",
   "id": "cf84395b",
   "metadata": {},
   "source": [
    "Scaling the features"
   ]
  },
  {
   "cell_type": "code",
   "execution_count": 429,
   "id": "0106b3d0",
   "metadata": {},
   "outputs": [
    {
     "data": {
      "text/html": [
       "<div>\n",
       "<style scoped>\n",
       "    .dataframe tbody tr th:only-of-type {\n",
       "        vertical-align: middle;\n",
       "    }\n",
       "\n",
       "    .dataframe tbody tr th {\n",
       "        vertical-align: top;\n",
       "    }\n",
       "\n",
       "    .dataframe thead th {\n",
       "        text-align: right;\n",
       "    }\n",
       "</style>\n",
       "<table border=\"1\" class=\"dataframe\">\n",
       "  <thead>\n",
       "    <tr style=\"text-align: right;\">\n",
       "      <th></th>\n",
       "      <th>experience_level_EN</th>\n",
       "      <th>experience_level_EX</th>\n",
       "      <th>experience_level_MI</th>\n",
       "      <th>experience_level_SE</th>\n",
       "      <th>employment_type_CT</th>\n",
       "      <th>employment_type_FL</th>\n",
       "      <th>employment_type_FT</th>\n",
       "      <th>employment_type_PT</th>\n",
       "      <th>company_size_L</th>\n",
       "      <th>company_size_M</th>\n",
       "      <th>company_size_S</th>\n",
       "      <th>job_title_s</th>\n",
       "      <th>salary_currency_s</th>\n",
       "    </tr>\n",
       "  </thead>\n",
       "  <tbody>\n",
       "    <tr>\n",
       "      <th>0</th>\n",
       "      <td>False</td>\n",
       "      <td>False</td>\n",
       "      <td>True</td>\n",
       "      <td>False</td>\n",
       "      <td>False</td>\n",
       "      <td>False</td>\n",
       "      <td>True</td>\n",
       "      <td>False</td>\n",
       "      <td>False</td>\n",
       "      <td>True</td>\n",
       "      <td>False</td>\n",
       "      <td>-1.276624</td>\n",
       "      <td>0.268195</td>\n",
       "    </tr>\n",
       "    <tr>\n",
       "      <th>1</th>\n",
       "      <td>False</td>\n",
       "      <td>False</td>\n",
       "      <td>True</td>\n",
       "      <td>False</td>\n",
       "      <td>False</td>\n",
       "      <td>False</td>\n",
       "      <td>True</td>\n",
       "      <td>False</td>\n",
       "      <td>False</td>\n",
       "      <td>True</td>\n",
       "      <td>False</td>\n",
       "      <td>-1.276624</td>\n",
       "      <td>0.268195</td>\n",
       "    </tr>\n",
       "    <tr>\n",
       "      <th>2</th>\n",
       "      <td>False</td>\n",
       "      <td>False</td>\n",
       "      <td>False</td>\n",
       "      <td>True</td>\n",
       "      <td>False</td>\n",
       "      <td>False</td>\n",
       "      <td>True</td>\n",
       "      <td>False</td>\n",
       "      <td>False</td>\n",
       "      <td>True</td>\n",
       "      <td>False</td>\n",
       "      <td>-1.463127</td>\n",
       "      <td>0.268195</td>\n",
       "    </tr>\n",
       "    <tr>\n",
       "      <th>3</th>\n",
       "      <td>False</td>\n",
       "      <td>False</td>\n",
       "      <td>False</td>\n",
       "      <td>True</td>\n",
       "      <td>False</td>\n",
       "      <td>False</td>\n",
       "      <td>True</td>\n",
       "      <td>False</td>\n",
       "      <td>False</td>\n",
       "      <td>True</td>\n",
       "      <td>False</td>\n",
       "      <td>-1.463127</td>\n",
       "      <td>0.268195</td>\n",
       "    </tr>\n",
       "    <tr>\n",
       "      <th>4</th>\n",
       "      <td>False</td>\n",
       "      <td>False</td>\n",
       "      <td>False</td>\n",
       "      <td>True</td>\n",
       "      <td>False</td>\n",
       "      <td>False</td>\n",
       "      <td>True</td>\n",
       "      <td>False</td>\n",
       "      <td>False</td>\n",
       "      <td>True</td>\n",
       "      <td>False</td>\n",
       "      <td>1.334415</td>\n",
       "      <td>0.268195</td>\n",
       "    </tr>\n",
       "  </tbody>\n",
       "</table>\n",
       "</div>"
      ],
      "text/plain": [
       "   experience_level_EN  experience_level_EX  experience_level_MI  \\\n",
       "0                False                False                 True   \n",
       "1                False                False                 True   \n",
       "2                False                False                False   \n",
       "3                False                False                False   \n",
       "4                False                False                False   \n",
       "\n",
       "   experience_level_SE  employment_type_CT  employment_type_FL  \\\n",
       "0                False               False               False   \n",
       "1                False               False               False   \n",
       "2                 True               False               False   \n",
       "3                 True               False               False   \n",
       "4                 True               False               False   \n",
       "\n",
       "   employment_type_FT  employment_type_PT  company_size_L  company_size_M  \\\n",
       "0                True               False           False            True   \n",
       "1                True               False           False            True   \n",
       "2                True               False           False            True   \n",
       "3                True               False           False            True   \n",
       "4                True               False           False            True   \n",
       "\n",
       "   company_size_S  job_title_s  salary_currency_s  \n",
       "0           False    -1.276624           0.268195  \n",
       "1           False    -1.276624           0.268195  \n",
       "2           False    -1.463127           0.268195  \n",
       "3           False    -1.463127           0.268195  \n",
       "4           False     1.334415           0.268195  "
      ]
     },
     "execution_count": 429,
     "metadata": {},
     "output_type": "execute_result"
    }
   ],
   "source": [
    "X = df_ohe[['experience_level_EN', 'experience_level_EX', 'experience_level_MI', 'experience_level_SE',\n",
    "             'employment_type_CT', 'employment_type_FL', 'employment_type_FT', 'employment_type_PT',\n",
    "             'company_size_L', 'company_size_M', 'company_size_S','job_title_s','salary_currency_s']]\n",
    "\n",
    "X.head()"
   ]
  },
  {
   "cell_type": "markdown",
   "id": "569e6a48",
   "metadata": {},
   "source": [
    "X is created and y is created too"
   ]
  },
  {
   "cell_type": "code",
   "execution_count": 430,
   "id": "18c9ce66",
   "metadata": {},
   "outputs": [],
   "source": [
    "X_train, x_, y_train, y_ = train_test_split(X, y_scaled, test_size=0.3, random_state=42)\n",
    "X_cv, X_test, y_cv, y_test = train_test_split(x_, y_, test_size=0.5, random_state=42)\n",
    "\n",
    "del x_,y_"
   ]
  },
  {
   "cell_type": "markdown",
   "id": "13d98e8b",
   "metadata": {},
   "source": [
    "Splits the dataset into 70-15-15. 70 for training, 15 for cross validation and 15 for testing"
   ]
  },
  {
   "cell_type": "markdown",
   "id": "3ac6b261",
   "metadata": {},
   "source": [
    "# Models"
   ]
  },
  {
   "cell_type": "markdown",
   "id": "61175592",
   "metadata": {},
   "source": [
    "## 1. Multiple Regression"
   ]
  },
  {
   "cell_type": "code",
   "execution_count": 431,
   "id": "62d4e1e7",
   "metadata": {},
   "outputs": [
    {
     "data": {
      "text/html": [
       "<style>#sk-container-id-24 {color: black;}#sk-container-id-24 pre{padding: 0;}#sk-container-id-24 div.sk-toggleable {background-color: white;}#sk-container-id-24 label.sk-toggleable__label {cursor: pointer;display: block;width: 100%;margin-bottom: 0;padding: 0.3em;box-sizing: border-box;text-align: center;}#sk-container-id-24 label.sk-toggleable__label-arrow:before {content: \"▸\";float: left;margin-right: 0.25em;color: #696969;}#sk-container-id-24 label.sk-toggleable__label-arrow:hover:before {color: black;}#sk-container-id-24 div.sk-estimator:hover label.sk-toggleable__label-arrow:before {color: black;}#sk-container-id-24 div.sk-toggleable__content {max-height: 0;max-width: 0;overflow: hidden;text-align: left;background-color: #f0f8ff;}#sk-container-id-24 div.sk-toggleable__content pre {margin: 0.2em;color: black;border-radius: 0.25em;background-color: #f0f8ff;}#sk-container-id-24 input.sk-toggleable__control:checked~div.sk-toggleable__content {max-height: 200px;max-width: 100%;overflow: auto;}#sk-container-id-24 input.sk-toggleable__control:checked~label.sk-toggleable__label-arrow:before {content: \"▾\";}#sk-container-id-24 div.sk-estimator input.sk-toggleable__control:checked~label.sk-toggleable__label {background-color: #d4ebff;}#sk-container-id-24 div.sk-label input.sk-toggleable__control:checked~label.sk-toggleable__label {background-color: #d4ebff;}#sk-container-id-24 input.sk-hidden--visually {border: 0;clip: rect(1px 1px 1px 1px);clip: rect(1px, 1px, 1px, 1px);height: 1px;margin: -1px;overflow: hidden;padding: 0;position: absolute;width: 1px;}#sk-container-id-24 div.sk-estimator {font-family: monospace;background-color: #f0f8ff;border: 1px dotted black;border-radius: 0.25em;box-sizing: border-box;margin-bottom: 0.5em;}#sk-container-id-24 div.sk-estimator:hover {background-color: #d4ebff;}#sk-container-id-24 div.sk-parallel-item::after {content: \"\";width: 100%;border-bottom: 1px solid gray;flex-grow: 1;}#sk-container-id-24 div.sk-label:hover label.sk-toggleable__label {background-color: #d4ebff;}#sk-container-id-24 div.sk-serial::before {content: \"\";position: absolute;border-left: 1px solid gray;box-sizing: border-box;top: 0;bottom: 0;left: 50%;z-index: 0;}#sk-container-id-24 div.sk-serial {display: flex;flex-direction: column;align-items: center;background-color: white;padding-right: 0.2em;padding-left: 0.2em;position: relative;}#sk-container-id-24 div.sk-item {position: relative;z-index: 1;}#sk-container-id-24 div.sk-parallel {display: flex;align-items: stretch;justify-content: center;background-color: white;position: relative;}#sk-container-id-24 div.sk-item::before, #sk-container-id-24 div.sk-parallel-item::before {content: \"\";position: absolute;border-left: 1px solid gray;box-sizing: border-box;top: 0;bottom: 0;left: 50%;z-index: -1;}#sk-container-id-24 div.sk-parallel-item {display: flex;flex-direction: column;z-index: 1;position: relative;background-color: white;}#sk-container-id-24 div.sk-parallel-item:first-child::after {align-self: flex-end;width: 50%;}#sk-container-id-24 div.sk-parallel-item:last-child::after {align-self: flex-start;width: 50%;}#sk-container-id-24 div.sk-parallel-item:only-child::after {width: 0;}#sk-container-id-24 div.sk-dashed-wrapped {border: 1px dashed gray;margin: 0 0.4em 0.5em 0.4em;box-sizing: border-box;padding-bottom: 0.4em;background-color: white;}#sk-container-id-24 div.sk-label label {font-family: monospace;font-weight: bold;display: inline-block;line-height: 1.2em;}#sk-container-id-24 div.sk-label-container {text-align: center;}#sk-container-id-24 div.sk-container {/* jupyter's `normalize.less` sets `[hidden] { display: none; }` but bootstrap.min.css set `[hidden] { display: none !important; }` so we also need the `!important` here to be able to override the default hidden behavior on the sphinx rendered scikit-learn.org. See: https://github.com/scikit-learn/scikit-learn/issues/21755 */display: inline-block !important;position: relative;}#sk-container-id-24 div.sk-text-repr-fallback {display: none;}</style><div id=\"sk-container-id-24\" class=\"sk-top-container\"><div class=\"sk-text-repr-fallback\"><pre>LinearRegression()</pre><b>In a Jupyter environment, please rerun this cell to show the HTML representation or trust the notebook. <br />On GitHub, the HTML representation is unable to render, please try loading this page with nbviewer.org.</b></div><div class=\"sk-container\" hidden><div class=\"sk-item\"><div class=\"sk-estimator sk-toggleable\"><input class=\"sk-toggleable__control sk-hidden--visually\" id=\"sk-estimator-id-24\" type=\"checkbox\" checked><label for=\"sk-estimator-id-24\" class=\"sk-toggleable__label sk-toggleable__label-arrow\">LinearRegression</label><div class=\"sk-toggleable__content\"><pre>LinearRegression()</pre></div></div></div></div></div>"
      ],
      "text/plain": [
       "LinearRegression()"
      ]
     },
     "execution_count": 431,
     "metadata": {},
     "output_type": "execute_result"
    }
   ],
   "source": [
    "linear = LinearRegression()\n",
    "linear.fit(X_train,y_train)"
   ]
  },
  {
   "cell_type": "markdown",
   "id": "58032d65",
   "metadata": {},
   "source": [
    "Creates a instance of LinearRegression, and fit trains the data by computing w and b parameters and reducing it by gradient descent"
   ]
  },
  {
   "cell_type": "code",
   "execution_count": 432,
   "id": "fcc209c9",
   "metadata": {},
   "outputs": [],
   "source": [
    "yhat1 = linear.predict(X_cv)\n",
    "\n",
    "yhat2 = linear.predict(X_test)"
   ]
  },
  {
   "cell_type": "markdown",
   "id": "919d3a92",
   "metadata": {},
   "source": [
    "Model predicts the value by the training it got above"
   ]
  },
  {
   "cell_type": "code",
   "execution_count": 433,
   "id": "e68b1b39",
   "metadata": {},
   "outputs": [
    {
     "name": "stdout",
     "output_type": "stream",
     "text": [
      "Cross Validation Mean Square Error is: 0.7326770313420382\n",
      "Test Mean Square Error is: 0.7202497715549385\n"
     ]
    }
   ],
   "source": [
    "mse1 = (mean_squared_error(y_cv,yhat1))\n",
    "mse2 = (mean_squared_error(y_test,yhat2))\n",
    "\n",
    "print(f\"Cross Validation Mean Square Error is: {mse1}\")\n",
    "print(f\"Test Mean Square Error is: {mse2}\")"
   ]
  },
  {
   "cell_type": "code",
   "execution_count": 434,
   "id": "8fe72534",
   "metadata": {},
   "outputs": [
    {
     "name": "stdout",
     "output_type": "stream",
     "text": [
      "Cross Validation R-Squared is: 0.26876899770259755\n",
      "Test R-Squared is: 0.26388431348610353\n"
     ]
    }
   ],
   "source": [
    "r1 = (r2_score(y_cv,yhat1))\n",
    "r2 = (r2_score(y_test,yhat2))\n",
    "\n",
    "print(f\"Cross Validation R-Squared is: {r1}\")\n",
    "print(f\"Test R-Squared is: {r2}\")"
   ]
  },
  {
   "cell_type": "markdown",
   "id": "3c567071",
   "metadata": {},
   "source": [
    "## 2. Decision Trees"
   ]
  },
  {
   "cell_type": "code",
   "execution_count": 435,
   "id": "ae59bd98",
   "metadata": {},
   "outputs": [
    {
     "data": {
      "text/html": [
       "<style>#sk-container-id-25 {color: black;}#sk-container-id-25 pre{padding: 0;}#sk-container-id-25 div.sk-toggleable {background-color: white;}#sk-container-id-25 label.sk-toggleable__label {cursor: pointer;display: block;width: 100%;margin-bottom: 0;padding: 0.3em;box-sizing: border-box;text-align: center;}#sk-container-id-25 label.sk-toggleable__label-arrow:before {content: \"▸\";float: left;margin-right: 0.25em;color: #696969;}#sk-container-id-25 label.sk-toggleable__label-arrow:hover:before {color: black;}#sk-container-id-25 div.sk-estimator:hover label.sk-toggleable__label-arrow:before {color: black;}#sk-container-id-25 div.sk-toggleable__content {max-height: 0;max-width: 0;overflow: hidden;text-align: left;background-color: #f0f8ff;}#sk-container-id-25 div.sk-toggleable__content pre {margin: 0.2em;color: black;border-radius: 0.25em;background-color: #f0f8ff;}#sk-container-id-25 input.sk-toggleable__control:checked~div.sk-toggleable__content {max-height: 200px;max-width: 100%;overflow: auto;}#sk-container-id-25 input.sk-toggleable__control:checked~label.sk-toggleable__label-arrow:before {content: \"▾\";}#sk-container-id-25 div.sk-estimator input.sk-toggleable__control:checked~label.sk-toggleable__label {background-color: #d4ebff;}#sk-container-id-25 div.sk-label input.sk-toggleable__control:checked~label.sk-toggleable__label {background-color: #d4ebff;}#sk-container-id-25 input.sk-hidden--visually {border: 0;clip: rect(1px 1px 1px 1px);clip: rect(1px, 1px, 1px, 1px);height: 1px;margin: -1px;overflow: hidden;padding: 0;position: absolute;width: 1px;}#sk-container-id-25 div.sk-estimator {font-family: monospace;background-color: #f0f8ff;border: 1px dotted black;border-radius: 0.25em;box-sizing: border-box;margin-bottom: 0.5em;}#sk-container-id-25 div.sk-estimator:hover {background-color: #d4ebff;}#sk-container-id-25 div.sk-parallel-item::after {content: \"\";width: 100%;border-bottom: 1px solid gray;flex-grow: 1;}#sk-container-id-25 div.sk-label:hover label.sk-toggleable__label {background-color: #d4ebff;}#sk-container-id-25 div.sk-serial::before {content: \"\";position: absolute;border-left: 1px solid gray;box-sizing: border-box;top: 0;bottom: 0;left: 50%;z-index: 0;}#sk-container-id-25 div.sk-serial {display: flex;flex-direction: column;align-items: center;background-color: white;padding-right: 0.2em;padding-left: 0.2em;position: relative;}#sk-container-id-25 div.sk-item {position: relative;z-index: 1;}#sk-container-id-25 div.sk-parallel {display: flex;align-items: stretch;justify-content: center;background-color: white;position: relative;}#sk-container-id-25 div.sk-item::before, #sk-container-id-25 div.sk-parallel-item::before {content: \"\";position: absolute;border-left: 1px solid gray;box-sizing: border-box;top: 0;bottom: 0;left: 50%;z-index: -1;}#sk-container-id-25 div.sk-parallel-item {display: flex;flex-direction: column;z-index: 1;position: relative;background-color: white;}#sk-container-id-25 div.sk-parallel-item:first-child::after {align-self: flex-end;width: 50%;}#sk-container-id-25 div.sk-parallel-item:last-child::after {align-self: flex-start;width: 50%;}#sk-container-id-25 div.sk-parallel-item:only-child::after {width: 0;}#sk-container-id-25 div.sk-dashed-wrapped {border: 1px dashed gray;margin: 0 0.4em 0.5em 0.4em;box-sizing: border-box;padding-bottom: 0.4em;background-color: white;}#sk-container-id-25 div.sk-label label {font-family: monospace;font-weight: bold;display: inline-block;line-height: 1.2em;}#sk-container-id-25 div.sk-label-container {text-align: center;}#sk-container-id-25 div.sk-container {/* jupyter's `normalize.less` sets `[hidden] { display: none; }` but bootstrap.min.css set `[hidden] { display: none !important; }` so we also need the `!important` here to be able to override the default hidden behavior on the sphinx rendered scikit-learn.org. See: https://github.com/scikit-learn/scikit-learn/issues/21755 */display: inline-block !important;position: relative;}#sk-container-id-25 div.sk-text-repr-fallback {display: none;}</style><div id=\"sk-container-id-25\" class=\"sk-top-container\"><div class=\"sk-text-repr-fallback\"><pre>DecisionTreeRegressor()</pre><b>In a Jupyter environment, please rerun this cell to show the HTML representation or trust the notebook. <br />On GitHub, the HTML representation is unable to render, please try loading this page with nbviewer.org.</b></div><div class=\"sk-container\" hidden><div class=\"sk-item\"><div class=\"sk-estimator sk-toggleable\"><input class=\"sk-toggleable__control sk-hidden--visually\" id=\"sk-estimator-id-25\" type=\"checkbox\" checked><label for=\"sk-estimator-id-25\" class=\"sk-toggleable__label sk-toggleable__label-arrow\">DecisionTreeRegressor</label><div class=\"sk-toggleable__content\"><pre>DecisionTreeRegressor()</pre></div></div></div></div></div>"
      ],
      "text/plain": [
       "DecisionTreeRegressor()"
      ]
     },
     "execution_count": 435,
     "metadata": {},
     "output_type": "execute_result"
    }
   ],
   "source": [
    "model2 = DecisionTreeRegressor()\n",
    "\n",
    "model2.fit(X_train,y_train)"
   ]
  },
  {
   "cell_type": "code",
   "execution_count": 436,
   "id": "3fc63191",
   "metadata": {},
   "outputs": [],
   "source": [
    "yhat3 = model2.predict(X_cv)\n",
    "\n",
    "yhat4 = model2.predict(X_test)"
   ]
  },
  {
   "cell_type": "code",
   "execution_count": 437,
   "id": "1fc43fa8",
   "metadata": {},
   "outputs": [
    {
     "name": "stdout",
     "output_type": "stream",
     "text": [
      "Cross Validation MSE is: 0.6513168033203495\n",
      "Test dataset MSE is: 0.6401703264940972\n"
     ]
    }
   ],
   "source": [
    "mse3 = (mean_squared_error(y_cv,yhat3))\n",
    "mse4 = (mean_squared_error(y_test,yhat4))\n",
    "\n",
    "print(f\"Cross Validation MSE is: {mse3}\")\n",
    "print(f\"Test dataset MSE is: {mse4}\")"
   ]
  },
  {
   "cell_type": "code",
   "execution_count": 438,
   "id": "15f95556",
   "metadata": {},
   "outputs": [
    {
     "name": "stdout",
     "output_type": "stream",
     "text": [
      "Cross Validation R-Squared is: 0.34996865121769627\n",
      "Test R-Squared is: 0.3457277766910296\n"
     ]
    }
   ],
   "source": [
    "r3 = (r2_score(y_cv,yhat3))\n",
    "r4 = (r2_score(y_test,yhat4))\n",
    "\n",
    "print(f\"Cross Validation R-Squared is: {r3}\")\n",
    "print(f\"Test R-Squared is: {r4}\")"
   ]
  },
  {
   "cell_type": "markdown",
   "id": "89e50be8",
   "metadata": {},
   "source": [
    "### Decision trees are wroking better than Linear Regression/Multiple Regression"
   ]
  },
  {
   "cell_type": "markdown",
   "id": "f2177604",
   "metadata": {},
   "source": [
    "## 3. Random Forests"
   ]
  },
  {
   "cell_type": "code",
   "execution_count": 439,
   "id": "343f9206",
   "metadata": {},
   "outputs": [
    {
     "data": {
      "text/html": [
       "<style>#sk-container-id-26 {color: black;}#sk-container-id-26 pre{padding: 0;}#sk-container-id-26 div.sk-toggleable {background-color: white;}#sk-container-id-26 label.sk-toggleable__label {cursor: pointer;display: block;width: 100%;margin-bottom: 0;padding: 0.3em;box-sizing: border-box;text-align: center;}#sk-container-id-26 label.sk-toggleable__label-arrow:before {content: \"▸\";float: left;margin-right: 0.25em;color: #696969;}#sk-container-id-26 label.sk-toggleable__label-arrow:hover:before {color: black;}#sk-container-id-26 div.sk-estimator:hover label.sk-toggleable__label-arrow:before {color: black;}#sk-container-id-26 div.sk-toggleable__content {max-height: 0;max-width: 0;overflow: hidden;text-align: left;background-color: #f0f8ff;}#sk-container-id-26 div.sk-toggleable__content pre {margin: 0.2em;color: black;border-radius: 0.25em;background-color: #f0f8ff;}#sk-container-id-26 input.sk-toggleable__control:checked~div.sk-toggleable__content {max-height: 200px;max-width: 100%;overflow: auto;}#sk-container-id-26 input.sk-toggleable__control:checked~label.sk-toggleable__label-arrow:before {content: \"▾\";}#sk-container-id-26 div.sk-estimator input.sk-toggleable__control:checked~label.sk-toggleable__label {background-color: #d4ebff;}#sk-container-id-26 div.sk-label input.sk-toggleable__control:checked~label.sk-toggleable__label {background-color: #d4ebff;}#sk-container-id-26 input.sk-hidden--visually {border: 0;clip: rect(1px 1px 1px 1px);clip: rect(1px, 1px, 1px, 1px);height: 1px;margin: -1px;overflow: hidden;padding: 0;position: absolute;width: 1px;}#sk-container-id-26 div.sk-estimator {font-family: monospace;background-color: #f0f8ff;border: 1px dotted black;border-radius: 0.25em;box-sizing: border-box;margin-bottom: 0.5em;}#sk-container-id-26 div.sk-estimator:hover {background-color: #d4ebff;}#sk-container-id-26 div.sk-parallel-item::after {content: \"\";width: 100%;border-bottom: 1px solid gray;flex-grow: 1;}#sk-container-id-26 div.sk-label:hover label.sk-toggleable__label {background-color: #d4ebff;}#sk-container-id-26 div.sk-serial::before {content: \"\";position: absolute;border-left: 1px solid gray;box-sizing: border-box;top: 0;bottom: 0;left: 50%;z-index: 0;}#sk-container-id-26 div.sk-serial {display: flex;flex-direction: column;align-items: center;background-color: white;padding-right: 0.2em;padding-left: 0.2em;position: relative;}#sk-container-id-26 div.sk-item {position: relative;z-index: 1;}#sk-container-id-26 div.sk-parallel {display: flex;align-items: stretch;justify-content: center;background-color: white;position: relative;}#sk-container-id-26 div.sk-item::before, #sk-container-id-26 div.sk-parallel-item::before {content: \"\";position: absolute;border-left: 1px solid gray;box-sizing: border-box;top: 0;bottom: 0;left: 50%;z-index: -1;}#sk-container-id-26 div.sk-parallel-item {display: flex;flex-direction: column;z-index: 1;position: relative;background-color: white;}#sk-container-id-26 div.sk-parallel-item:first-child::after {align-self: flex-end;width: 50%;}#sk-container-id-26 div.sk-parallel-item:last-child::after {align-self: flex-start;width: 50%;}#sk-container-id-26 div.sk-parallel-item:only-child::after {width: 0;}#sk-container-id-26 div.sk-dashed-wrapped {border: 1px dashed gray;margin: 0 0.4em 0.5em 0.4em;box-sizing: border-box;padding-bottom: 0.4em;background-color: white;}#sk-container-id-26 div.sk-label label {font-family: monospace;font-weight: bold;display: inline-block;line-height: 1.2em;}#sk-container-id-26 div.sk-label-container {text-align: center;}#sk-container-id-26 div.sk-container {/* jupyter's `normalize.less` sets `[hidden] { display: none; }` but bootstrap.min.css set `[hidden] { display: none !important; }` so we also need the `!important` here to be able to override the default hidden behavior on the sphinx rendered scikit-learn.org. See: https://github.com/scikit-learn/scikit-learn/issues/21755 */display: inline-block !important;position: relative;}#sk-container-id-26 div.sk-text-repr-fallback {display: none;}</style><div id=\"sk-container-id-26\" class=\"sk-top-container\"><div class=\"sk-text-repr-fallback\"><pre>RandomForestRegressor()</pre><b>In a Jupyter environment, please rerun this cell to show the HTML representation or trust the notebook. <br />On GitHub, the HTML representation is unable to render, please try loading this page with nbviewer.org.</b></div><div class=\"sk-container\" hidden><div class=\"sk-item\"><div class=\"sk-estimator sk-toggleable\"><input class=\"sk-toggleable__control sk-hidden--visually\" id=\"sk-estimator-id-26\" type=\"checkbox\" checked><label for=\"sk-estimator-id-26\" class=\"sk-toggleable__label sk-toggleable__label-arrow\">RandomForestRegressor</label><div class=\"sk-toggleable__content\"><pre>RandomForestRegressor()</pre></div></div></div></div></div>"
      ],
      "text/plain": [
       "RandomForestRegressor()"
      ]
     },
     "execution_count": 439,
     "metadata": {},
     "output_type": "execute_result"
    }
   ],
   "source": [
    "model3 = RandomForestRegressor()\n",
    "\n",
    "model3.fit(X_train,y_train.ravel())"
   ]
  },
  {
   "cell_type": "code",
   "execution_count": 440,
   "id": "18f9609d",
   "metadata": {},
   "outputs": [],
   "source": [
    "yhat5 = model3.predict(X_cv)\n",
    "\n",
    "yhat6 = model3.predict(X_test)"
   ]
  },
  {
   "cell_type": "code",
   "execution_count": 441,
   "id": "0cafd453",
   "metadata": {},
   "outputs": [
    {
     "name": "stdout",
     "output_type": "stream",
     "text": [
      "Cross Validation MSE is: 0.6452543018159669\n",
      "Test dataset MSE is: 0.6318079670230938\n"
     ]
    }
   ],
   "source": [
    "mse5 = (mean_squared_error(y_cv,yhat5))\n",
    "mse6 = (mean_squared_error(y_test,yhat6))\n",
    "\n",
    "print(f\"Cross Validation MSE is: {mse5}\")\n",
    "print(f\"Test dataset MSE is: {mse6}\")"
   ]
  },
  {
   "cell_type": "code",
   "execution_count": 442,
   "id": "eaccbfbd",
   "metadata": {},
   "outputs": [
    {
     "name": "stdout",
     "output_type": "stream",
     "text": [
      "Cross Validation R-Squared is: 0.35601918762301965\n",
      "Test R-Squared is: 0.35427434515377865\n"
     ]
    }
   ],
   "source": [
    "r5 = (r2_score(y_cv,yhat5))\n",
    "r6 = (r2_score(y_test,yhat6))\n",
    "\n",
    "print(f\"Cross Validation R-Squared is: {r5}\")\n",
    "print(f\"Test R-Squared is: {r6}\")"
   ]
  },
  {
   "cell_type": "markdown",
   "id": "dafb2a2d",
   "metadata": {},
   "source": [
    "### Random forests work slightly better than Decision Trees, but much better than Linear regression"
   ]
  },
  {
   "cell_type": "markdown",
   "id": "b9aaa477",
   "metadata": {},
   "source": [
    "## 4. Gradient Boosting Regressor"
   ]
  },
  {
   "cell_type": "code",
   "execution_count": 443,
   "id": "6162d10a",
   "metadata": {},
   "outputs": [],
   "source": [
    "model4 = GradientBoostingRegressor(n_estimators=100, learning_rate=0.1, max_depth=5)"
   ]
  },
  {
   "cell_type": "code",
   "execution_count": 444,
   "id": "20ddabf7",
   "metadata": {},
   "outputs": [
    {
     "data": {
      "text/html": [
       "<style>#sk-container-id-27 {color: black;}#sk-container-id-27 pre{padding: 0;}#sk-container-id-27 div.sk-toggleable {background-color: white;}#sk-container-id-27 label.sk-toggleable__label {cursor: pointer;display: block;width: 100%;margin-bottom: 0;padding: 0.3em;box-sizing: border-box;text-align: center;}#sk-container-id-27 label.sk-toggleable__label-arrow:before {content: \"▸\";float: left;margin-right: 0.25em;color: #696969;}#sk-container-id-27 label.sk-toggleable__label-arrow:hover:before {color: black;}#sk-container-id-27 div.sk-estimator:hover label.sk-toggleable__label-arrow:before {color: black;}#sk-container-id-27 div.sk-toggleable__content {max-height: 0;max-width: 0;overflow: hidden;text-align: left;background-color: #f0f8ff;}#sk-container-id-27 div.sk-toggleable__content pre {margin: 0.2em;color: black;border-radius: 0.25em;background-color: #f0f8ff;}#sk-container-id-27 input.sk-toggleable__control:checked~div.sk-toggleable__content {max-height: 200px;max-width: 100%;overflow: auto;}#sk-container-id-27 input.sk-toggleable__control:checked~label.sk-toggleable__label-arrow:before {content: \"▾\";}#sk-container-id-27 div.sk-estimator input.sk-toggleable__control:checked~label.sk-toggleable__label {background-color: #d4ebff;}#sk-container-id-27 div.sk-label input.sk-toggleable__control:checked~label.sk-toggleable__label {background-color: #d4ebff;}#sk-container-id-27 input.sk-hidden--visually {border: 0;clip: rect(1px 1px 1px 1px);clip: rect(1px, 1px, 1px, 1px);height: 1px;margin: -1px;overflow: hidden;padding: 0;position: absolute;width: 1px;}#sk-container-id-27 div.sk-estimator {font-family: monospace;background-color: #f0f8ff;border: 1px dotted black;border-radius: 0.25em;box-sizing: border-box;margin-bottom: 0.5em;}#sk-container-id-27 div.sk-estimator:hover {background-color: #d4ebff;}#sk-container-id-27 div.sk-parallel-item::after {content: \"\";width: 100%;border-bottom: 1px solid gray;flex-grow: 1;}#sk-container-id-27 div.sk-label:hover label.sk-toggleable__label {background-color: #d4ebff;}#sk-container-id-27 div.sk-serial::before {content: \"\";position: absolute;border-left: 1px solid gray;box-sizing: border-box;top: 0;bottom: 0;left: 50%;z-index: 0;}#sk-container-id-27 div.sk-serial {display: flex;flex-direction: column;align-items: center;background-color: white;padding-right: 0.2em;padding-left: 0.2em;position: relative;}#sk-container-id-27 div.sk-item {position: relative;z-index: 1;}#sk-container-id-27 div.sk-parallel {display: flex;align-items: stretch;justify-content: center;background-color: white;position: relative;}#sk-container-id-27 div.sk-item::before, #sk-container-id-27 div.sk-parallel-item::before {content: \"\";position: absolute;border-left: 1px solid gray;box-sizing: border-box;top: 0;bottom: 0;left: 50%;z-index: -1;}#sk-container-id-27 div.sk-parallel-item {display: flex;flex-direction: column;z-index: 1;position: relative;background-color: white;}#sk-container-id-27 div.sk-parallel-item:first-child::after {align-self: flex-end;width: 50%;}#sk-container-id-27 div.sk-parallel-item:last-child::after {align-self: flex-start;width: 50%;}#sk-container-id-27 div.sk-parallel-item:only-child::after {width: 0;}#sk-container-id-27 div.sk-dashed-wrapped {border: 1px dashed gray;margin: 0 0.4em 0.5em 0.4em;box-sizing: border-box;padding-bottom: 0.4em;background-color: white;}#sk-container-id-27 div.sk-label label {font-family: monospace;font-weight: bold;display: inline-block;line-height: 1.2em;}#sk-container-id-27 div.sk-label-container {text-align: center;}#sk-container-id-27 div.sk-container {/* jupyter's `normalize.less` sets `[hidden] { display: none; }` but bootstrap.min.css set `[hidden] { display: none !important; }` so we also need the `!important` here to be able to override the default hidden behavior on the sphinx rendered scikit-learn.org. See: https://github.com/scikit-learn/scikit-learn/issues/21755 */display: inline-block !important;position: relative;}#sk-container-id-27 div.sk-text-repr-fallback {display: none;}</style><div id=\"sk-container-id-27\" class=\"sk-top-container\"><div class=\"sk-text-repr-fallback\"><pre>GradientBoostingRegressor(max_depth=5)</pre><b>In a Jupyter environment, please rerun this cell to show the HTML representation or trust the notebook. <br />On GitHub, the HTML representation is unable to render, please try loading this page with nbviewer.org.</b></div><div class=\"sk-container\" hidden><div class=\"sk-item\"><div class=\"sk-estimator sk-toggleable\"><input class=\"sk-toggleable__control sk-hidden--visually\" id=\"sk-estimator-id-27\" type=\"checkbox\" checked><label for=\"sk-estimator-id-27\" class=\"sk-toggleable__label sk-toggleable__label-arrow\">GradientBoostingRegressor</label><div class=\"sk-toggleable__content\"><pre>GradientBoostingRegressor(max_depth=5)</pre></div></div></div></div></div>"
      ],
      "text/plain": [
       "GradientBoostingRegressor(max_depth=5)"
      ]
     },
     "execution_count": 444,
     "metadata": {},
     "output_type": "execute_result"
    }
   ],
   "source": [
    "model4.fit(X_train,y_train.ravel())"
   ]
  },
  {
   "cell_type": "code",
   "execution_count": 445,
   "id": "50ca637a",
   "metadata": {},
   "outputs": [],
   "source": [
    "yhat7 = model4.predict(X_cv)\n",
    "yhat8 = model4.predict(X_test)"
   ]
  },
  {
   "cell_type": "code",
   "execution_count": 446,
   "id": "962c1215",
   "metadata": {},
   "outputs": [
    {
     "name": "stdout",
     "output_type": "stream",
     "text": [
      "Cross Validation MSE is: 0.6389191626500321\n",
      "Test dataset MSE is: 0.6334999147983489\n"
     ]
    }
   ],
   "source": [
    "mse7 = (mean_squared_error(y_cv,yhat7))\n",
    "mse8 = (mean_squared_error(y_test,yhat8))\n",
    "\n",
    "print(f\"Cross Validation MSE is: {mse7}\")\n",
    "print(f\"Test dataset MSE is: {mse8}\")"
   ]
  },
  {
   "cell_type": "code",
   "execution_count": 447,
   "id": "de261b41",
   "metadata": {},
   "outputs": [
    {
     "name": "stdout",
     "output_type": "stream",
     "text": [
      "Cross Validation R-Squared is: 0.3623418236056364\n",
      "Test R-Squared is: 0.3525451265586256\n"
     ]
    }
   ],
   "source": [
    "r7 = (r2_score(y_cv,yhat7))\n",
    "r8 = (r2_score(y_test,yhat8))\n",
    "\n",
    "print(f\"Cross Validation R-Squared is: {r7}\")\n",
    "print(f\"Test R-Squared is: {r8}\")"
   ]
  },
  {
   "cell_type": "markdown",
   "id": "ddf8527d",
   "metadata": {},
   "source": [
    "### Random Forests and Gradient Boosting Regressor works almost in the same manner"
   ]
  },
  {
   "cell_type": "markdown",
   "id": "a37649e0",
   "metadata": {},
   "source": [
    "### Random Forests and Gradient Boosting Regressor are best suited for this non-linear relationship of dataset. Using Mean Square error and R squared error, we are able to get to this conclusion"
   ]
  },
  {
   "cell_type": "code",
   "execution_count": null,
   "id": "0be1b33d",
   "metadata": {},
   "outputs": [],
   "source": []
  }
 ],
 "metadata": {
  "kernelspec": {
   "display_name": "Python 3 (ipykernel)",
   "language": "python",
   "name": "python3"
  },
  "language_info": {
   "codemirror_mode": {
    "name": "ipython",
    "version": 3
   },
   "file_extension": ".py",
   "mimetype": "text/x-python",
   "name": "python",
   "nbconvert_exporter": "python",
   "pygments_lexer": "ipython3",
   "version": "3.11.5"
  }
 },
 "nbformat": 4,
 "nbformat_minor": 5
}
