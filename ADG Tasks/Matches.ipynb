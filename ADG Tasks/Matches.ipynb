{
 "cells": [
  {
   "cell_type": "code",
   "execution_count": null,
   "id": "74f7552b",
   "metadata": {},
   "outputs": [],
   "source": [
    "import pandas as pd\n",
    "import numpy as np\n",
    "import matplotlib.pyplot as plt\n",
    "\n",
    "from sklearn.model_selection import train_test_split\n",
    "from sklearn.ensemble import RandomForestRegressor\n",
    "from sklearn.metrics import mean_squared_error, r2_score\n"
   ]
  },
  {
   "cell_type": "code",
   "execution_count": null,
   "id": "c7c8fb70",
   "metadata": {},
   "outputs": [],
   "source": [
    "df = pd.read_csv('matches.csv')"
   ]
  },
  {
   "cell_type": "code",
   "execution_count": null,
   "id": "1315c368",
   "metadata": {},
   "outputs": [],
   "source": [
    "df.head()"
   ]
  },
  {
   "cell_type": "code",
   "execution_count": null,
   "id": "b3a50db9",
   "metadata": {},
   "outputs": [],
   "source": [
    "df = df.drop(['Unnamed: 0'],axis=1)"
   ]
  },
  {
   "cell_type": "code",
   "execution_count": null,
   "id": "4afcc959",
   "metadata": {},
   "outputs": [],
   "source": [
    "df.tail(30)"
   ]
  },
  {
   "cell_type": "code",
   "execution_count": 33,
   "id": "43ee6823",
   "metadata": {},
   "outputs": [
    {
     "name": "stdout",
     "output_type": "stream",
     "text": [
      "<class 'pandas.core.frame.DataFrame'>\n",
      "RangeIndex: 60529 entries, 0 to 60528\n",
      "Data columns (total 10 columns):\n",
      " #   Column      Non-Null Count  Dtype  \n",
      "---  ------      --------------  -----  \n",
      " 0   Season      60529 non-null  object \n",
      " 1   Date        50568 non-null  object \n",
      " 2   Home        50568 non-null  object \n",
      " 3   xG          2660 non-null   float64\n",
      " 4   Home Goals  50568 non-null  float64\n",
      " 5   Away Goals  50568 non-null  float64\n",
      " 6   xG.1        2660 non-null   float64\n",
      " 7   Away        50568 non-null  object \n",
      " 8   Attendance  11446 non-null  float64\n",
      " 9   Venue       12406 non-null  object \n",
      "dtypes: float64(5), object(5)\n",
      "memory usage: 4.6+ MB\n"
     ]
    }
   ],
   "source": [
    "df.info()"
   ]
  },
  {
   "cell_type": "code",
   "execution_count": 34,
   "id": "374d7e8d",
   "metadata": {},
   "outputs": [
    {
     "data": {
      "text/plain": [
       "Season            0\n",
       "Date           9961\n",
       "Home           9961\n",
       "xG            57869\n",
       "Home Goals     9961\n",
       "Away Goals     9961\n",
       "xG.1          57869\n",
       "Away           9961\n",
       "Attendance    49083\n",
       "Venue         48123\n",
       "dtype: int64"
      ]
     },
     "execution_count": 34,
     "metadata": {},
     "output_type": "execute_result"
    }
   ],
   "source": [
    "df.isnull().sum()"
   ]
  },
  {
   "cell_type": "markdown",
   "id": "75d7bcad",
   "metadata": {},
   "source": [
    "Looks like there are quite a lot of null values in all columns except Season"
   ]
  },
  {
   "cell_type": "code",
   "execution_count": 35,
   "id": "018f7923",
   "metadata": {},
   "outputs": [
    {
     "data": {
      "text/html": [
       "<div>\n",
       "<style scoped>\n",
       "    .dataframe tbody tr th:only-of-type {\n",
       "        vertical-align: middle;\n",
       "    }\n",
       "\n",
       "    .dataframe tbody tr th {\n",
       "        vertical-align: top;\n",
       "    }\n",
       "\n",
       "    .dataframe thead th {\n",
       "        text-align: right;\n",
       "    }\n",
       "</style>\n",
       "<table border=\"1\" class=\"dataframe\">\n",
       "  <thead>\n",
       "    <tr style=\"text-align: right;\">\n",
       "      <th></th>\n",
       "      <th>xG</th>\n",
       "      <th>Home Goals</th>\n",
       "      <th>Away Goals</th>\n",
       "      <th>xG.1</th>\n",
       "      <th>Attendance</th>\n",
       "    </tr>\n",
       "  </thead>\n",
       "  <tbody>\n",
       "    <tr>\n",
       "      <th>count</th>\n",
       "      <td>2660.000000</td>\n",
       "      <td>50568.000000</td>\n",
       "      <td>50568.000000</td>\n",
       "      <td>2660.000000</td>\n",
       "      <td>11446.000000</td>\n",
       "    </tr>\n",
       "    <tr>\n",
       "      <th>mean</th>\n",
       "      <td>1.504361</td>\n",
       "      <td>1.801100</td>\n",
       "      <td>1.172540</td>\n",
       "      <td>1.228496</td>\n",
       "      <td>33295.807968</td>\n",
       "    </tr>\n",
       "    <tr>\n",
       "      <th>std</th>\n",
       "      <td>0.851252</td>\n",
       "      <td>1.464901</td>\n",
       "      <td>1.146355</td>\n",
       "      <td>0.753071</td>\n",
       "      <td>14223.190117</td>\n",
       "    </tr>\n",
       "    <tr>\n",
       "      <th>min</th>\n",
       "      <td>0.000000</td>\n",
       "      <td>0.000000</td>\n",
       "      <td>0.000000</td>\n",
       "      <td>0.000000</td>\n",
       "      <td>2000.000000</td>\n",
       "    </tr>\n",
       "    <tr>\n",
       "      <th>25%</th>\n",
       "      <td>0.900000</td>\n",
       "      <td>1.000000</td>\n",
       "      <td>0.000000</td>\n",
       "      <td>0.700000</td>\n",
       "      <td>23246.000000</td>\n",
       "    </tr>\n",
       "    <tr>\n",
       "      <th>50%</th>\n",
       "      <td>1.400000</td>\n",
       "      <td>2.000000</td>\n",
       "      <td>1.000000</td>\n",
       "      <td>1.100000</td>\n",
       "      <td>31130.000000</td>\n",
       "    </tr>\n",
       "    <tr>\n",
       "      <th>75%</th>\n",
       "      <td>2.000000</td>\n",
       "      <td>3.000000</td>\n",
       "      <td>2.000000</td>\n",
       "      <td>1.600000</td>\n",
       "      <td>40162.000000</td>\n",
       "    </tr>\n",
       "    <tr>\n",
       "      <th>max</th>\n",
       "      <td>7.000000</td>\n",
       "      <td>12.000000</td>\n",
       "      <td>9.000000</td>\n",
       "      <td>4.600000</td>\n",
       "      <td>83222.000000</td>\n",
       "    </tr>\n",
       "  </tbody>\n",
       "</table>\n",
       "</div>"
      ],
      "text/plain": [
       "                xG    Home Goals    Away Goals         xG.1    Attendance\n",
       "count  2660.000000  50568.000000  50568.000000  2660.000000  11446.000000\n",
       "mean      1.504361      1.801100      1.172540     1.228496  33295.807968\n",
       "std       0.851252      1.464901      1.146355     0.753071  14223.190117\n",
       "min       0.000000      0.000000      0.000000     0.000000   2000.000000\n",
       "25%       0.900000      1.000000      0.000000     0.700000  23246.000000\n",
       "50%       1.400000      2.000000      1.000000     1.100000  31130.000000\n",
       "75%       2.000000      3.000000      2.000000     1.600000  40162.000000\n",
       "max       7.000000     12.000000      9.000000     4.600000  83222.000000"
      ]
     },
     "execution_count": 35,
     "metadata": {},
     "output_type": "execute_result"
    }
   ],
   "source": [
    "df.describe()"
   ]
  },
  {
   "cell_type": "markdown",
   "id": "c769a613",
   "metadata": {},
   "source": [
    "Provides the descriptive statistics for the numerical values in dataset"
   ]
  },
  {
   "cell_type": "code",
   "execution_count": 36,
   "id": "fe2da2ad",
   "metadata": {},
   "outputs": [
    {
     "name": "stdout",
     "output_type": "stream",
     "text": [
      "71\n",
      "71\n"
     ]
    }
   ],
   "source": [
    "print(len(df.Home.unique()))\n",
    "print(len(df.Away.unique()))"
   ]
  },
  {
   "cell_type": "code",
   "execution_count": 37,
   "id": "df3b403e",
   "metadata": {},
   "outputs": [],
   "source": [
    "df_new = df.drop(['xG','xG.1','Attendance','Venue'],axis=1)"
   ]
  },
  {
   "cell_type": "code",
   "execution_count": 38,
   "id": "5bae72c3",
   "metadata": {},
   "outputs": [],
   "source": [
    "df_new = df_new.dropna()"
   ]
  },
  {
   "cell_type": "code",
   "execution_count": null,
   "id": "fa3d8650",
   "metadata": {},
   "outputs": [],
   "source": [
    "df_new['Date'] = pd.to_datetime(df_new['Date'])\n",
    "df_new['Year'] = df_new['Date'].dt.year\n",
    "df_new['Month'] = df_new['Date'].dt.month\n",
    "df_new['Day'] = df_new['Date'].dt.day\n",
    "\n",
    "# Drop the original Date column\n",
    "df_new = df_new.drop('Date', axis=1)"
   ]
  },
  {
   "cell_type": "code",
   "execution_count": 39,
   "id": "4a95ded1",
   "metadata": {},
   "outputs": [],
   "source": [
    "X = df_new[['Home','Away','Season','Year','Month','Day']]\n",
    "y = df_new['Home Goals']"
   ]
  },
  {
   "cell_type": "code",
   "execution_count": 40,
   "id": "01ac5f82",
   "metadata": {},
   "outputs": [],
   "source": [
    "X = pd.get_dummies(X, columns=['Home', 'Away', 'Season'])\n",
    "\n",
    "'''le = LabelEncoder()\n",
    "\n",
    "Date_le = le.fit_transform(df.Date)\n",
    "\n",
    "df_new['Date_le'] = Date_le\n",
    "\n",
    "df_new = df_new.drop(['Date'],axis=1)'''"
   ]
  },
  {
   "cell_type": "code",
   "execution_count": 41,
   "id": "d64b66ab",
   "metadata": {},
   "outputs": [],
   "source": [
    "X_train, X_, y_train, y_ = train_test_split(X, y, test_size=0.3, random_state=42)\n",
    "X_cv, X_test, y_cv, y_test = train_test_split(X_, y_, test_size=0.5, random_state=42)\n",
    "\n",
    "del X_, y_"
   ]
  },
  {
   "cell_type": "code",
   "execution_count": null,
   "id": "598ed138",
   "metadata": {},
   "outputs": [],
   "source": [
    "rfr = RandomForestRegressor(n_estimators=100, random_state=42)\n",
    "rfr.fit(X_train, y_train)"
   ]
  },
  {
   "cell_type": "code",
   "execution_count": null,
   "id": "05214efd",
   "metadata": {},
   "outputs": [],
   "source": [
    "yhat1 = rfr.predict(X_cv)\n",
    "yhat2 = rfr.predict(X_test)\n",
    "\n",
    "print(f\"MSE of CV: {mean_squared_error(y_cv,yhat1)}\")\n",
    "print(f\"MSE of Test: {mean_squared_error(y_test,yhat2)}\")\n",
    "\n",
    "print(f\"R-Squared of CV: {r2_score(y_cv,yhat1)}\")\n",
    "print(f\"R-Square of Test: {r2_score(y_test,yhat2)}\")"
   ]
  },
  {
   "cell_type": "code",
   "execution_count": null,
   "id": "543dbbbb",
   "metadata": {},
   "outputs": [],
   "source": []
  }
 ],
 "metadata": {
  "kernelspec": {
   "display_name": "Python 3 (ipykernel)",
   "language": "python",
   "name": "python3"
  },
  "language_info": {
   "codemirror_mode": {
    "name": "ipython",
    "version": 3
   },
   "file_extension": ".py",
   "mimetype": "text/x-python",
   "name": "python",
   "nbconvert_exporter": "python",
   "pygments_lexer": "ipython3",
   "version": "3.11.5"
  }
 },
 "nbformat": 4,
 "nbformat_minor": 5
}
